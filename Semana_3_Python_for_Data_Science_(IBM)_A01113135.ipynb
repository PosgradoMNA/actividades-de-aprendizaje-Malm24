{
  "cells": [
    {
      "cell_type": "markdown",
      "metadata": {
        "id": "view-in-github",
        "colab_type": "text"
      },
      "source": [
        "<a href=\"https://colab.research.google.com/github/PosgradoMNA/actividades-de-aprendizaje-Malm24/blob/main/Semana_3_Python_for_Data_Science_(IBM)_A01113135.ipynb\" target=\"_parent\"><img src=\"https://colab.research.google.com/assets/colab-badge.svg\" alt=\"Open In Colab\"/></a>"
      ]
    },
    {
      "cell_type": "markdown",
      "metadata": {
        "id": "Hspest_4bTqc"
      },
      "source": [
        "Numpy - es una librería para computación cientifica\n",
        "\n",
        "Una lista phyton es un contenedor que te permite almacenar y acceder a data\n",
        "\n",
        "Cada elemento tiene un index y puedes ingresar a ellos por medio de [] \n",
        "\n"
      ]
    },
    {
      "cell_type": "code",
      "execution_count": null,
      "metadata": {
        "id": "kFhvvbMtby1y"
      },
      "outputs": [],
      "source": [
        " import numpy as np"
      ]
    },
    {
      "cell_type": "code",
      "execution_count": null,
      "metadata": {
        "colab": {
          "base_uri": "https://localhost:8080/"
        },
        "id": "Un3gbookcvva",
        "outputId": "349c68b4-f746-4b50-fb35-d7bb90a68f60"
      },
      "outputs": [
        {
          "output_type": "execute_result",
          "data": {
            "text/plain": [
              "0"
            ]
          },
          "metadata": {},
          "execution_count": 3
        }
      ],
      "source": [
        "a=np.array ([0,1,2,3,4]) #definiendo un array\n",
        "a[0] #accediendo al valor de la posición 0"
      ]
    },
    {
      "cell_type": "code",
      "execution_count": null,
      "metadata": {
        "colab": {
          "base_uri": "https://localhost:8080/"
        },
        "id": "90iU4o7xdetC",
        "outputId": "96cb1c00-0f72-42e6-e06e-4afc69e0499b"
      },
      "outputs": [
        {
          "output_type": "execute_result",
          "data": {
            "text/plain": [
              "5"
            ]
          },
          "metadata": {},
          "execution_count": 4
        }
      ],
      "source": [
        "a.size #consultado el tamaño del arreglo"
      ]
    },
    {
      "cell_type": "code",
      "execution_count": null,
      "metadata": {
        "colab": {
          "base_uri": "https://localhost:8080/"
        },
        "id": "M6ta88Rgdkdd",
        "outputId": "ca55540a-dad6-4779-d641-55ad014650a9"
      },
      "outputs": [
        {
          "output_type": "execute_result",
          "data": {
            "text/plain": [
              "numpy.ndarray"
            ]
          },
          "metadata": {},
          "execution_count": 5
        }
      ],
      "source": [
        "type(a) #consultando el tipo "
      ]
    },
    {
      "cell_type": "code",
      "execution_count": null,
      "metadata": {
        "colab": {
          "base_uri": "https://localhost:8080/"
        },
        "id": "VutwAuohBjI9",
        "outputId": "c3b479fc-ddaf-4a4f-cdcd-f53ca92505a9"
      },
      "outputs": [
        {
          "output_type": "execute_result",
          "data": {
            "text/plain": [
              "dtype('int64')"
            ]
          },
          "metadata": {},
          "execution_count": 6
        }
      ],
      "source": [
        "a.dtype #consultar el tipo de data"
      ]
    },
    {
      "cell_type": "code",
      "source": [
        "a.ndim #número de dimensión del array"
      ],
      "metadata": {
        "colab": {
          "base_uri": "https://localhost:8080/"
        },
        "id": "9Sd00yyoCCi3",
        "outputId": "81871590-5158-4618-8966-be6267291884"
      },
      "execution_count": null,
      "outputs": [
        {
          "output_type": "execute_result",
          "data": {
            "text/plain": [
              "1"
            ]
          },
          "metadata": {},
          "execution_count": 7
        }
      ]
    },
    {
      "cell_type": "code",
      "source": [
        "a.shape #regresa el tamaño del array en cada dimension"
      ],
      "metadata": {
        "colab": {
          "base_uri": "https://localhost:8080/"
        },
        "id": "7OHmKlVhCSel",
        "outputId": "518179ff-9000-4025-a4f7-1a5c51d4fc84"
      },
      "execution_count": null,
      "outputs": [
        {
          "output_type": "execute_result",
          "data": {
            "text/plain": [
              "(5,)"
            ]
          },
          "metadata": {},
          "execution_count": 8
        }
      ]
    },
    {
      "cell_type": "code",
      "source": [
        "b=np.array([3.1,11.02,6.2,213.2,5.2]) #creando un array con números reales"
      ],
      "metadata": {
        "id": "Vcfm48PKCcnI"
      },
      "execution_count": null,
      "outputs": []
    },
    {
      "cell_type": "code",
      "source": [
        "type(b) #consultando el tipo de arreglo"
      ],
      "metadata": {
        "colab": {
          "base_uri": "https://localhost:8080/"
        },
        "id": "xiZVfSg4Cn8F",
        "outputId": "f6b9dccc-ad59-4b5b-f951-3bed1312cc0a"
      },
      "execution_count": null,
      "outputs": [
        {
          "output_type": "execute_result",
          "data": {
            "text/plain": [
              "numpy.ndarray"
            ]
          },
          "metadata": {},
          "execution_count": 11
        }
      ]
    },
    {
      "cell_type": "code",
      "source": [
        "b.dtype #consultando el tipo de data"
      ],
      "metadata": {
        "colab": {
          "base_uri": "https://localhost:8080/"
        },
        "id": "caGNY8kUCsnv",
        "outputId": "24a942ce-852b-4cef-d6c8-2a23ae478f29"
      },
      "execution_count": null,
      "outputs": [
        {
          "output_type": "execute_result",
          "data": {
            "text/plain": [
              "dtype('float64')"
            ]
          },
          "metadata": {},
          "execution_count": 12
        }
      ]
    },
    {
      "cell_type": "markdown",
      "source": [
        "Metodos - Slicing and Indexing\n",
        "\n",
        "Al igual que en list y tuples nostros podemos dividir un numpy array\n",
        "\n",
        "para ello utilizaremos los [] y :\n",
        "\n",
        "Ejemplo - c[1:4] esto nos regresará los valores de los index 1 al 3 y omitirá el último número(4).\n",
        "\n",
        "También por medio de [] podemos asignar un nuevo valor a un index\n",
        "\n",
        "Ejemplo: c[3] = 100 si utilizamos este código se asignará un valor nuevo al index 3.\n",
        "\n",
        "\n",
        "\n",
        "\n",
        "\n",
        "\n"
      ],
      "metadata": {
        "id": "CfzgQsm0C8j4"
      }
    },
    {
      "cell_type": "code",
      "source": [
        "c = np.array([20,1,2,3,4]) #creando un nuevo numpy array"
      ],
      "metadata": {
        "id": "pP-5pNjeEQvO"
      },
      "execution_count": null,
      "outputs": []
    },
    {
      "cell_type": "code",
      "source": [
        "c[0] = 100 #asignando un nuevo valor al index 0 del array c\n",
        "\n",
        "c"
      ],
      "metadata": {
        "colab": {
          "base_uri": "https://localhost:8080/"
        },
        "id": "w3cDuGXKEbMH",
        "outputId": "64b6603b-cc52-4661-a0cc-6aab19ae2a4c"
      },
      "execution_count": null,
      "outputs": [
        {
          "output_type": "execute_result",
          "data": {
            "text/plain": [
              "array([100,   1,   2,   3,   4])"
            ]
          },
          "metadata": {},
          "execution_count": 15
        }
      ]
    },
    {
      "cell_type": "code",
      "source": [
        "d = c[1:4] #creando un nuevo array tomando como referencia un extracto del array c\n",
        "d"
      ],
      "metadata": {
        "colab": {
          "base_uri": "https://localhost:8080/"
        },
        "id": "naw0Btb8Eu0Z",
        "outputId": "fd24e99f-94e3-433d-cbd8-309decd761ba"
      },
      "execution_count": null,
      "outputs": [
        {
          "output_type": "execute_result",
          "data": {
            "text/plain": [
              "array([1, 2, 3])"
            ]
          },
          "metadata": {},
          "execution_count": 18
        }
      ]
    },
    {
      "cell_type": "code",
      "source": [
        "c[3:5] = 300,400 #cambiando simultaneamente 2 valores del array c\n",
        "c"
      ],
      "metadata": {
        "colab": {
          "base_uri": "https://localhost:8080/"
        },
        "id": "W4w1HP4GFDcj",
        "outputId": "1d84aa2c-89cf-4efa-9621-d929c6ac5e5f"
      },
      "execution_count": null,
      "outputs": [
        {
          "output_type": "execute_result",
          "data": {
            "text/plain": [
              "array([100,   1,   2, 300, 400])"
            ]
          },
          "metadata": {},
          "execution_count": 21
        }
      ]
    },
    {
      "cell_type": "markdown",
      "source": [
        "Operaciones Basicas \n",
        "\n",
        "Numpy hace más sencillo el hacer operaciones utilizadas comunmente en la ciencia de datos.\n",
        "\n",
        "Estas operaciones regularmente son mas rapidas y requieren menos memoria a utilizar numpy comparado a phyton regular\n"
      ],
      "metadata": {
        "id": "euTANA2nIJ85"
      }
    },
    {
      "cell_type": "markdown",
      "source": [
        "Para realizar la suma de dos arreglos podemos utilizar numpy o phyton regular a continuación se muestran los ejemplos:\n",
        "\n",
        "Numpy nos permite realizar estas operaciones con código más corto y con más rapido"
      ],
      "metadata": {
        "id": "JA2-glv3KqMG"
      }
    },
    {
      "cell_type": "code",
      "source": [
        "#Suma de array Numpy\n",
        "\n",
        "u= np.array([0,1])#defición de array u\n",
        "v= np.array([1,0]) #definición de array v\n",
        "z=u+v # suma de array u + v\n",
        "z"
      ],
      "metadata": {
        "colab": {
          "base_uri": "https://localhost:8080/"
        },
        "id": "0__rKB3wKzNX",
        "outputId": "69e1b40e-3a69-4d56-8ec1-f0eb4ce66cef"
      },
      "execution_count": 24,
      "outputs": [
        {
          "output_type": "execute_result",
          "data": {
            "text/plain": [
              "array([1, 1])"
            ]
          },
          "metadata": {},
          "execution_count": 24
        }
      ]
    },
    {
      "cell_type": "code",
      "source": [
        "#suma array phyton\n",
        "u = [1,0]\n",
        "v = [0,1]\n",
        "z=[]\n",
        "\n",
        "for n, m in zip (u,v):\n",
        "  z.append(n+m)\n",
        "\n",
        "z\n"
      ],
      "metadata": {
        "colab": {
          "base_uri": "https://localhost:8080/"
        },
        "id": "9B-MNqSPLK_k",
        "outputId": "8cb2f2f1-a238-47b1-bb71-b44488a955e9"
      },
      "execution_count": 26,
      "outputs": [
        {
          "output_type": "execute_result",
          "data": {
            "text/plain": [
              "[1, 1]"
            ]
          },
          "metadata": {},
          "execution_count": 26
        }
      ]
    },
    {
      "cell_type": "code",
      "source": [
        "#resta de array Numpy\n",
        "\n",
        "u= np.array([0,1])#defición de array u\n",
        "v= np.array([1,0]) #definición de array v\n",
        "z=u-v # resta de array u - v\n",
        "z"
      ],
      "metadata": {
        "colab": {
          "base_uri": "https://localhost:8080/"
        },
        "id": "fZS5JKevM5UV",
        "outputId": "5604969d-b613-4a98-a6ff-a5b2b29051a5"
      },
      "execution_count": 27,
      "outputs": [
        {
          "output_type": "execute_result",
          "data": {
            "text/plain": [
              "array([-1,  1])"
            ]
          },
          "metadata": {},
          "execution_count": 27
        }
      ]
    },
    {
      "cell_type": "code",
      "source": [
        "#resta array phyton\n",
        "u = [1,0]\n",
        "v = [0,1]\n",
        "z=[]\n",
        "\n",
        "for n, m in zip (u,v):\n",
        "  z.append(n-m)\n",
        "\n",
        "z"
      ],
      "metadata": {
        "colab": {
          "base_uri": "https://localhost:8080/"
        },
        "id": "O9xnNDZ6NDo5",
        "outputId": "27741f1e-fdf7-48fd-d1fc-614423ae16f3"
      },
      "execution_count": 29,
      "outputs": [
        {
          "output_type": "execute_result",
          "data": {
            "text/plain": [
              "[1, -1]"
            ]
          },
          "metadata": {},
          "execution_count": 29
        }
      ]
    },
    {
      "cell_type": "code",
      "source": [
        "u= np.array([1,1])#defición de array u\n",
        "z=2*u #multiplicación de array u por 2\n",
        "z"
      ],
      "metadata": {
        "colab": {
          "base_uri": "https://localhost:8080/"
        },
        "id": "XdBVvK1PNJO7",
        "outputId": "a5e84f7f-4f57-4460-eba1-8e376b4bf560"
      },
      "execution_count": 31,
      "outputs": [
        {
          "output_type": "execute_result",
          "data": {
            "text/plain": [
              "array([2, 2])"
            ]
          },
          "metadata": {},
          "execution_count": 31
        }
      ]
    },
    {
      "cell_type": "code",
      "source": [
        "#multiplicación de arrays\n",
        "u= np.array([1,2])#defición de array u\n",
        "v= np.array([3,2]) #definición de array v\n",
        "z=u*v # multiplicación de arrays\n",
        "z\n"
      ],
      "metadata": {
        "colab": {
          "base_uri": "https://localhost:8080/"
        },
        "id": "NybPS11HOGDg",
        "outputId": "755d066a-3da0-41d3-837c-7efc5002be63"
      },
      "execution_count": 33,
      "outputs": [
        {
          "output_type": "execute_result",
          "data": {
            "text/plain": [
              "array([3, 4])"
            ]
          },
          "metadata": {},
          "execution_count": 33
        }
      ]
    },
    {
      "cell_type": "code",
      "source": [
        "#multiplicación punto arrays\n",
        "u= np.array([1,2])#defición de array u\n",
        "v= np.array([3,1]) #definición de array v\n",
        "z= np.dot(u,v)\n",
        "z"
      ],
      "metadata": {
        "colab": {
          "base_uri": "https://localhost:8080/"
        },
        "id": "Wtsg752ePEXl",
        "outputId": "bcf620c0-fc35-4480-c6e2-f0e98e48c71b"
      },
      "execution_count": 35,
      "outputs": [
        {
          "output_type": "execute_result",
          "data": {
            "text/plain": [
              "5"
            ]
          },
          "metadata": {},
          "execution_count": 35
        }
      ]
    },
    {
      "cell_type": "code",
      "source": [
        "#sumando constantes aun array\n",
        "u= np.array([1,2,3,-1])#defición de array u\n",
        "z=u+1\n",
        "z"
      ],
      "metadata": {
        "colab": {
          "base_uri": "https://localhost:8080/"
        },
        "id": "0QZ9iX2tPnpB",
        "outputId": "de4b045e-eb48-4ee7-b400-f40bb057ffc4"
      },
      "execution_count": 36,
      "outputs": [
        {
          "output_type": "execute_result",
          "data": {
            "text/plain": [
              "array([2, 3, 4, 0])"
            ]
          },
          "metadata": {},
          "execution_count": 36
        }
      ]
    },
    {
      "cell_type": "markdown",
      "source": [
        "Con numpy puedes realizar operaciones universales con tus areglos como:\n",
        "\n",
        "\n",
        "*   promedio\n",
        "*   max\n",
        "*   min\n",
        "\n",
        "\n",
        "\n",
        "\n",
        "\n"
      ],
      "metadata": {
        "id": "d8jwDCc3P_wF"
      }
    },
    {
      "cell_type": "code",
      "source": [
        "#Calcular el promedio del array\n",
        "a = np.array([1,-1,1,-1])\n",
        "mean_a= a.mean()\n",
        "mean_a"
      ],
      "metadata": {
        "colab": {
          "base_uri": "https://localhost:8080/"
        },
        "id": "TgtZjUNEQgwF",
        "outputId": "1a21d752-571e-4cce-9c12-e6392584a0be"
      },
      "execution_count": 38,
      "outputs": [
        {
          "output_type": "execute_result",
          "data": {
            "text/plain": [
              "0.0"
            ]
          },
          "metadata": {},
          "execution_count": 38
        }
      ]
    },
    {
      "cell_type": "code",
      "source": [
        "#Calcular el máximo del array\n",
        "max_a=a.max()\n",
        "max_a"
      ],
      "metadata": {
        "colab": {
          "base_uri": "https://localhost:8080/"
        },
        "id": "ud5VXiBiQ4Tg",
        "outputId": "53af1897-82b2-49b3-99a7-4f05d498236f"
      },
      "execution_count": 39,
      "outputs": [
        {
          "output_type": "execute_result",
          "data": {
            "text/plain": [
              "1"
            ]
          },
          "metadata": {},
          "execution_count": 39
        }
      ]
    },
    {
      "cell_type": "code",
      "source": [
        "np.pi #regresa el valorde pi"
      ],
      "metadata": {
        "colab": {
          "base_uri": "https://localhost:8080/"
        },
        "id": "oY7Oonx7Q-t7",
        "outputId": "ba281c99-a10d-4f32-81f2-aaf2948eae59"
      },
      "execution_count": 40,
      "outputs": [
        {
          "output_type": "execute_result",
          "data": {
            "text/plain": [
              "3.141592653589793"
            ]
          },
          "metadata": {},
          "execution_count": 40
        }
      ]
    },
    {
      "cell_type": "code",
      "source": [
        "x=np.array([0,np.pi/2,np.pi]) #creando un array en radianes\n",
        "x\n",
        "\n",
        "y=np.sin(x) #utilizando la función sin para crear un nuevo array\n",
        "y"
      ],
      "metadata": {
        "colab": {
          "base_uri": "https://localhost:8080/"
        },
        "id": "D3z4E5hzRBt9",
        "outputId": "abd3d203-720a-4563-f982-cfce79b894ae"
      },
      "execution_count": 44,
      "outputs": [
        {
          "output_type": "execute_result",
          "data": {
            "text/plain": [
              "array([0.0000000e+00, 1.0000000e+00, 1.2246468e-16])"
            ]
          },
          "metadata": {},
          "execution_count": 44
        }
      ]
    },
    {
      "cell_type": "code",
      "source": [
        "np.linspace(-2,2,num=5) #creando un array de 5 números entre -2 y 2 con el misma distancia entre ellos"
      ],
      "metadata": {
        "colab": {
          "base_uri": "https://localhost:8080/"
        },
        "id": "qIJemLNJRMpc",
        "outputId": "0d6861bf-eaf4-460d-fdb1-5dcf62016416"
      },
      "execution_count": 45,
      "outputs": [
        {
          "output_type": "execute_result",
          "data": {
            "text/plain": [
              "array([-2., -1.,  0.,  1.,  2.])"
            ]
          },
          "metadata": {},
          "execution_count": 45
        }
      ]
    },
    {
      "cell_type": "code",
      "source": [
        "np.linspace(-2,2,num=9) #creando un array de 9 números entre -2 y 2 con el misma distancia entre ellos"
      ],
      "metadata": {
        "colab": {
          "base_uri": "https://localhost:8080/"
        },
        "id": "70M19zYgRvWc",
        "outputId": "86e17547-36ae-4471-fb96-1bd5c0e26e32"
      },
      "execution_count": 46,
      "outputs": [
        {
          "output_type": "execute_result",
          "data": {
            "text/plain": [
              "array([-2. , -1.5, -1. , -0.5,  0. ,  0.5,  1. ,  1.5,  2. ])"
            ]
          },
          "metadata": {},
          "execution_count": 46
        }
      ]
    },
    {
      "cell_type": "code",
      "source": [
        "x= np.linspace (0,2*np.pi,100) #creando un array con 100 valores entre 0 y 2pi separados con la misma distancia\n",
        "y=np.sin(x) #utilizando la función sin para crear un nuevo array\n",
        "\n",
        "import matplotlib.pyplot as plt #importando matplot\n",
        "\n",
        "%matplotlib inline\n",
        "plt.plot(x,y) #graficando"
      ],
      "metadata": {
        "colab": {
          "base_uri": "https://localhost:8080/",
          "height": 282
        },
        "id": "Ah2iSQNHR2bl",
        "outputId": "0e61f8e9-37ef-4bd1-cd10-62e26a72bcf5"
      },
      "execution_count": 48,
      "outputs": [
        {
          "output_type": "execute_result",
          "data": {
            "text/plain": [
              "[<matplotlib.lines.Line2D at 0x7f8692649290>]"
            ]
          },
          "metadata": {},
          "execution_count": 48
        },
        {
          "output_type": "display_data",
          "data": {
            "text/plain": [
              "<Figure size 432x288 with 1 Axes>"
            ],
            "image/png": "[encoded data removed]"
          },
          "metadata": {
            "needs_background": "light"
          }
        }
      ]
    },
    {
      "cell_type": "code",
      "source": [
        "#Suma de arrays\n",
        "arr1 = np.array([10, 11, 12, 13, 14, 15])\n",
        "arr2 = np.array([20, 21, 22, 23, 24, 25])\n",
        "\n",
        "arr3 = arr1 + arr2\n",
        "arr3"
      ],
      "metadata": {
        "colab": {
          "base_uri": "https://localhost:8080/"
        },
        "id": "yzIPxKIeWW0V",
        "outputId": "8a52485f-4e3c-48d6-c175-4c78465028d1"
      },
      "execution_count": 49,
      "outputs": [
        {
          "output_type": "execute_result",
          "data": {
            "text/plain": [
              "array([30, 32, 34, 36, 38, 40])"
            ]
          },
          "metadata": {},
          "execution_count": 49
        }
      ]
    },
    {
      "cell_type": "code",
      "source": [
        "#multiplicación de array\n",
        "arr1 = np.array([10, 20, 30, 40, 50, 60])\n",
        "arr2 = np.array([20, 21, 22, 23, 24, 25])\n",
        "\n",
        "arr3 = np.subtract(arr1, arr2)\n",
        "arr3"
      ],
      "metadata": {
        "colab": {
          "base_uri": "https://localhost:8080/"
        },
        "id": "nGl2HslVXEXa",
        "outputId": "2b6ebcb0-6d9b-4747-90bb-50ee38658c1c"
      },
      "execution_count": 50,
      "outputs": [
        {
          "output_type": "execute_result",
          "data": {
            "text/plain": [
              "array([-10,  -1,   8,  17,  26,  35])"
            ]
          },
          "metadata": {},
          "execution_count": 50
        }
      ]
    },
    {
      "cell_type": "code",
      "source": [
        "#suma de array\n",
        "arr1 = np.array([10, 20, 30, 40, 50, 60])\n",
        "arr2 = np.array([2, 1, 2, 3, 4, 5])\n",
        "\n",
        "arr3 = np.multiply(arr1,arr2)\n",
        "arr3"
      ],
      "metadata": {
        "colab": {
          "base_uri": "https://localhost:8080/"
        },
        "id": "SMeC6dn0W_dx",
        "outputId": "da625f6f-a3c2-4001-9815-d83b3ebc7905"
      },
      "execution_count": 51,
      "outputs": [
        {
          "output_type": "execute_result",
          "data": {
            "text/plain": [
              "array([ 20,  20,  60, 120, 200, 300])"
            ]
          },
          "metadata": {},
          "execution_count": 51
        }
      ]
    },
    {
      "cell_type": "code",
      "source": [
        "#división de array\n",
        "arr1 = np.array([10, 20, 30, 40, 50, 60])\n",
        "arr2 = np.array([3, 5, 10, 8, 2, 33])\n",
        "\n",
        "arr3=np.divide(arr1,arr2)\n",
        "arr3"
      ],
      "metadata": {
        "colab": {
          "base_uri": "https://localhost:8080/"
        },
        "id": "4xbAesdPXlpK",
        "outputId": "45b0a65e-3fbd-4ca6-f5ce-0799570d0758"
      },
      "execution_count": 52,
      "outputs": [
        {
          "output_type": "execute_result",
          "data": {
            "text/plain": [
              "array([ 3.33333333,  4.        ,  3.        ,  5.        , 25.        ,\n",
              "        1.81818182])"
            ]
          },
          "metadata": {},
          "execution_count": 52
        }
      ]
    },
    {
      "cell_type": "code",
      "source": [
        "#producto punto array\n",
        "arr1 = np.array([3, 5])\n",
        "arr2 = np.array([2, 4])\n",
        "\n",
        "arr3 =np.dot(arr1,arr2)\n",
        "arr3"
      ],
      "metadata": {
        "colab": {
          "base_uri": "https://localhost:8080/"
        },
        "id": "GlLsm5_SX2Da",
        "outputId": "d4de93e8-a6cb-4a73-ff51-88bbb3795fe7"
      },
      "execution_count": 53,
      "outputs": [
        {
          "output_type": "execute_result",
          "data": {
            "text/plain": [
              "26"
            ]
          },
          "metadata": {},
          "execution_count": 53
        }
      ]
    },
    {
      "cell_type": "code",
      "source": [
        "#sumando una constante al array\n",
        "\n",
        "arr = np.array([1, 2, 3, -1]) \n",
        "\n",
        "arr+5"
      ],
      "metadata": {
        "colab": {
          "base_uri": "https://localhost:8080/"
        },
        "id": "9SZqrfF2YQve",
        "outputId": "661d4dc8-6b60-45e3-9581-8d7ab9292492"
      },
      "execution_count": 54,
      "outputs": [
        {
          "output_type": "execute_result",
          "data": {
            "text/plain": [
              "array([6, 7, 8, 4])"
            ]
          },
          "metadata": {},
          "execution_count": 54
        }
      ]
    },
    {
      "cell_type": "code",
      "source": [
        "#array con seis elementos entre [5,4]\n",
        "np.linspace(5, 4, num=6)"
      ],
      "metadata": {
        "colab": {
          "base_uri": "https://localhost:8080/"
        },
        "id": "29jeIgdmYSx1",
        "outputId": "c7d98b8f-4faf-4b5c-ff2d-1112e1be3ca4"
      },
      "execution_count": 55,
      "outputs": [
        {
          "output_type": "execute_result",
          "data": {
            "text/plain": [
              "array([5. , 4.8, 4.6, 4.4, 4.2, 4. ])"
            ]
          },
          "metadata": {},
          "execution_count": 55
        }
      ]
    },
    {
      "cell_type": "markdown",
      "source": [
        "Hay dos manera de imprimir un array lo podemos hacer de la forma tradicional o utilizando un for para crear una lista."
      ],
      "metadata": {
        "id": "pes9osjxZY0h"
      }
    },
    {
      "cell_type": "code",
      "source": [
        "arr1 = np.array([1, 2, 3])\n",
        "print(arr1) #impresión tradicional\n",
        "\n",
        "for x in arr1:\n",
        "  print(x) #impresión en lista"
      ],
      "metadata": {
        "colab": {
          "base_uri": "https://localhost:8080/"
        },
        "id": "XkwJvS2HY0qS",
        "outputId": "756ad08d-3fa4-4e52-817f-3aa5e1a34489"
      },
      "execution_count": 57,
      "outputs": [
        {
          "output_type": "stream",
          "name": "stdout",
          "text": [
            "[1 2 3]\n",
            "1\n",
            "2\n",
            "3\n"
          ]
        }
      ]
    },
    {
      "cell_type": "markdown",
      "source": [
        "Crear una gráfica con los arreglos \n",
        "a [-1,1]\n",
        "b [1,1]\n",
        "\n",
        "Calcular el producto punto"
      ],
      "metadata": {
        "id": "2_19Z18larON"
      }
    },
    {
      "cell_type": "code",
      "source": [
        "#importanto librerias\n",
        "\n",
        "import time \n",
        "import sys\n",
        "import numpy as np \n",
        "\n",
        "import matplotlib.pyplot as plt\n",
        "%matplotlib inline  \n",
        "\n",
        "def Plotvec2(a,b):\n",
        "    ax = plt.axes()# to generate the full window axes\n",
        "    ax.arrow(0, 0, *a, head_width=0.05, color ='r', head_length=0.1)#Add an arrow to the  a Axes with arrow head width 0.05, color red and arrow head length 0.1\n",
        "    plt.text(*(a + 0.1), 'a')\n",
        "    ax.arrow(0, 0, *b, head_width=0.05, color ='b', head_length=0.1)#Add an arrow to the  b Axes with arrow head width 0.05, color blue and arrow head length 0.1\n",
        "    plt.text(*(b + 0.1), 'b')\n",
        "    plt.ylim(-2, 2)#set the ylim to bottom(-2), top(2)\n",
        "    plt.xlim(-2, 2)#set the xlim to left(-2), right(2)\n",
        "    "
      ],
      "metadata": {
        "id": "01Sjums_Zpeh"
      },
      "execution_count": 59,
      "outputs": []
    },
    {
      "cell_type": "code",
      "source": [
        "a = np.array([-1, 1])\n",
        "b = np.array([1, 1])\n",
        "Plotvec2(a, b)\n",
        "print(\"El producto punto es:\", np.dot(a,b))"
      ],
      "metadata": {
        "colab": {
          "base_uri": "https://localhost:8080/",
          "height": 286
        },
        "id": "FRbZopQSasiO",
        "outputId": "fe58511f-01dc-4398-e77d-3cb1c7001302"
      },
      "execution_count": 61,
      "outputs": [
        {
          "output_type": "stream",
          "name": "stdout",
          "text": [
            "El producto punto es: 0\n"
          ]
        },
        {
          "output_type": "display_data",
          "data": {
            "text/plain": [
              "<Figure size 432x288 with 1 Axes>"
            ],
            "image/png": "[encoded data removed]"
          },
          "metadata": {
            "needs_background": "light"
          }
        }
      ]
    },
    {
      "cell_type": "markdown",
      "source": [
        "Con los arrays:\n",
        "\n",
        "arr1 [1,2,3]\n",
        "arr2 [8,9,10]\n",
        "\n",
        "realizar las siguientes operaciones:\n",
        "\n",
        "Suma\n",
        "resta\n",
        "multiplicación\n",
        "división\n",
        "producto punto\n"
      ],
      "metadata": {
        "id": "olEH7f_4dAIX"
      }
    },
    {
      "cell_type": "code",
      "source": [
        "arr1 = [1,2,3]\n",
        "arr2 = [8,9,10]\n",
        "\n",
        "arr3 = np.add(arr1, arr2)\n",
        "arr3\n"
      ],
      "metadata": {
        "colab": {
          "base_uri": "https://localhost:8080/"
        },
        "id": "fONBsWa8dOEe",
        "outputId": "c95f744a-ff43-49b1-ed14-1c9a11bd7c98"
      },
      "execution_count": 65,
      "outputs": [
        {
          "output_type": "execute_result",
          "data": {
            "text/plain": [
              "array([ 9, 11, 13])"
            ]
          },
          "metadata": {},
          "execution_count": 65
        }
      ]
    },
    {
      "cell_type": "code",
      "source": [
        "arr4 = np.subtract(arr1, arr2)\n",
        "arr4"
      ],
      "metadata": {
        "colab": {
          "base_uri": "https://localhost:8080/"
        },
        "id": "hT0S-80JdapS",
        "outputId": "c1637a7d-5fb1-42fa-df50-e5d04778d4b6"
      },
      "execution_count": 66,
      "outputs": [
        {
          "output_type": "execute_result",
          "data": {
            "text/plain": [
              "array([-7, -7, -7])"
            ]
          },
          "metadata": {},
          "execution_count": 66
        }
      ]
    },
    {
      "cell_type": "code",
      "source": [
        "arr5 = np.multiply(arr1, arr2)\n",
        "arr5"
      ],
      "metadata": {
        "colab": {
          "base_uri": "https://localhost:8080/"
        },
        "id": "GpGUS82jddUL",
        "outputId": "3896d607-134e-4be3-b4a2-0d6ee198ae66"
      },
      "execution_count": 67,
      "outputs": [
        {
          "output_type": "execute_result",
          "data": {
            "text/plain": [
              "array([ 8, 18, 30])"
            ]
          },
          "metadata": {},
          "execution_count": 67
        }
      ]
    },
    {
      "cell_type": "code",
      "source": [
        "arr6 = np.divide(arr1, arr2)\n",
        "arr6"
      ],
      "metadata": {
        "colab": {
          "base_uri": "https://localhost:8080/"
        },
        "id": "tg98nG-Nde7i",
        "outputId": "5e542a92-422e-4312-9855-cc0b3b1f8101"
      },
      "execution_count": 68,
      "outputs": [
        {
          "output_type": "execute_result",
          "data": {
            "text/plain": [
              "array([0.125     , 0.22222222, 0.3       ])"
            ]
          },
          "metadata": {},
          "execution_count": 68
        }
      ]
    },
    {
      "cell_type": "code",
      "source": [
        "arr7 = np.dot(arr1, arr2)\n",
        "arr7"
      ],
      "metadata": {
        "colab": {
          "base_uri": "https://localhost:8080/"
        },
        "id": "L3Uoy8BCdgsY",
        "outputId": "18d25346-3d63-41c3-f2a9-de97f24305b4"
      },
      "execution_count": 73,
      "outputs": [
        {
          "output_type": "execute_result",
          "data": {
            "text/plain": [
              "56"
            ]
          },
          "metadata": {},
          "execution_count": 73
        }
      ]
    },
    {
      "cell_type": "code",
      "source": [
        "arr1=np.array ([1, 2, 3, 4, 5])\n",
        "arr2=np.array([6, 7, 8, 9, 10])\n",
        "\n",
        "x= arr1[1:8:2]\n",
        "x\n",
        "\n"
      ],
      "metadata": {
        "colab": {
          "base_uri": "https://localhost:8080/"
        },
        "id": "Sn7a-b2reHeC",
        "outputId": "efbf0e47-0462-497e-ec15-6e1145337c09"
      },
      "execution_count": 74,
      "outputs": [
        {
          "output_type": "execute_result",
          "data": {
            "text/plain": [
              "array([2, 4])"
            ]
          },
          "metadata": {},
          "execution_count": 74
        }
      ]
    },
    {
      "cell_type": "code",
      "source": [
        "y= arr1[0:8:2]\n",
        "y"
      ],
      "metadata": {
        "colab": {
          "base_uri": "https://localhost:8080/"
        },
        "id": "LDUMpymieJco",
        "outputId": "8e9e1f7b-d828-4bc7-b0db-12bae23cebb1"
      },
      "execution_count": 75,
      "outputs": [
        {
          "output_type": "execute_result",
          "data": {
            "text/plain": [
              "array([1, 3, 5])"
            ]
          },
          "metadata": {},
          "execution_count": 75
        }
      ]
    },
    {
      "cell_type": "markdown",
      "source": [
        "Arrays de dos dimensiones\n",
        "\n",
        "Numpy puede generar arrays de dimensiones mayores\n",
        "\n",
        "cada lista corresponde a una fila dentro del array"
      ],
      "metadata": {
        "id": "jb8VAoZyh6qI"
      }
    },
    {
      "cell_type": "code",
      "source": [
        "A = np.array([[11,12,13],[21,22,23],[31,32,33]]) #definiendo un arrays\n",
        "A"
      ],
      "metadata": {
        "colab": {
          "base_uri": "https://localhost:8080/"
        },
        "id": "06iHeMFgeckR",
        "outputId": "cf28655c-dbb2-4a9f-8ca4-42836a616d69"
      },
      "execution_count": 79,
      "outputs": [
        {
          "output_type": "execute_result",
          "data": {
            "text/plain": [
              "array([[11, 12, 13],\n",
              "       [21, 22, 23],\n",
              "       [31, 32, 33]])"
            ]
          },
          "metadata": {},
          "execution_count": 79
        }
      ]
    },
    {
      "cell_type": "code",
      "source": [
        "A.ndim #La dimensión"
      ],
      "metadata": {
        "colab": {
          "base_uri": "https://localhost:8080/"
        },
        "id": "4IODBpC0i63Z",
        "outputId": "e9036c15-f781-477b-96ec-e6ab7fff2ee8"
      },
      "execution_count": 80,
      "outputs": [
        {
          "output_type": "execute_result",
          "data": {
            "text/plain": [
              "2"
            ]
          },
          "metadata": {},
          "execution_count": 80
        }
      ]
    },
    {
      "cell_type": "code",
      "source": [
        "A.shape #nos devuelve la forma\n",
        "#primer elemento corresponde al número de nested list\n",
        "#el segundo elemento corresponde al tamaño decada nested list"
      ],
      "metadata": {
        "colab": {
          "base_uri": "https://localhost:8080/"
        },
        "id": "vQzHkjlMjJ86",
        "outputId": "d3898f99-4255-4425-b7c0-b0fda4c2d67a"
      },
      "execution_count": 81,
      "outputs": [
        {
          "output_type": "execute_result",
          "data": {
            "text/plain": [
              "(3, 3)"
            ]
          },
          "metadata": {},
          "execution_count": 81
        }
      ]
    },
    {
      "cell_type": "code",
      "source": [
        "A.size #nos devuelve el total número de elementos"
      ],
      "metadata": {
        "colab": {
          "base_uri": "https://localhost:8080/"
        },
        "id": "GFbSVM_9jM6r",
        "outputId": "03b3b4d1-c6f5-4eb8-cc39-2e54ef56b4fe"
      },
      "execution_count": 82,
      "outputs": [
        {
          "output_type": "execute_result",
          "data": {
            "text/plain": [
              "9"
            ]
          },
          "metadata": {},
          "execution_count": 82
        }
      ]
    },
    {
      "cell_type": "code",
      "source": [
        "A[0][0] #nos devolverá el número de la primera posición de fila y columna"
      ],
      "metadata": {
        "colab": {
          "base_uri": "https://localhost:8080/"
        },
        "id": "mRiW2mqtjuoV",
        "outputId": "e34e8c9b-89ae-48fd-c1f6-2d9706fca962"
      },
      "execution_count": 83,
      "outputs": [
        {
          "output_type": "execute_result",
          "data": {
            "text/plain": [
              "11"
            ]
          },
          "metadata": {},
          "execution_count": 83
        }
      ]
    },
    {
      "cell_type": "code",
      "source": [
        "A[1][2] #nos devolverá el número de la segunda fila y tercera columna"
      ],
      "metadata": {
        "colab": {
          "base_uri": "https://localhost:8080/"
        },
        "id": "nE4-svoUjpzR",
        "outputId": "e4d390f2-26b1-4668-9356-cee0453ba5e2"
      },
      "execution_count": 84,
      "outputs": [
        {
          "output_type": "execute_result",
          "data": {
            "text/plain": [
              "23"
            ]
          },
          "metadata": {},
          "execution_count": 84
        }
      ]
    },
    {
      "cell_type": "markdown",
      "source": [
        "Para utilizar slicing en un array de dos dimensiones debes puedes utilizar los [] y \":\"\n",
        "\n",
        "Ejemplo [0,0:2] \n",
        "\n",
        "En este caso el primer elemento nos indicará que debemos seleccionar la primera fila el \"0:2\" despues de la \",\" nos indica que tomaremos los elementos de la primera y segunda columna.\n",
        "\n",
        "\n"
      ],
      "metadata": {
        "id": "5P-RukEckOIn"
      }
    },
    {
      "cell_type": "code",
      "source": [
        "A[0,0:2] #En este caso el primer elemento nos indicará que debemos seleccionar la primera fila el \"0:2\" \n",
        "          #despues de la \",\" nos indica que tomaremos los elementos de la primera y segunda columna.\n"
      ],
      "metadata": {
        "colab": {
          "base_uri": "https://localhost:8080/"
        },
        "id": "avB4iu_sk7-e",
        "outputId": "ee63e511-63c0-4a86-8f60-b92985ad1406"
      },
      "execution_count": 85,
      "outputs": [
        {
          "output_type": "execute_result",
          "data": {
            "text/plain": [
              "array([11, 12])"
            ]
          },
          "metadata": {},
          "execution_count": 85
        }
      ]
    },
    {
      "cell_type": "code",
      "source": [
        "A[0:2,2]#En este caso el primer elemento \"0:2\" nos indica que debemos seleccionar la primera y segunda fila\n",
        "          #el 2 despues de la \",\" nos indica que tomaremos la 3 tercera columna"
      ],
      "metadata": {
        "colab": {
          "base_uri": "https://localhost:8080/"
        },
        "id": "1uYT4OsNk_HK",
        "outputId": "6a1e903e-6f89-4575-c49d-3f43c5d6125b"
      },
      "execution_count": 86,
      "outputs": [
        {
          "output_type": "execute_result",
          "data": {
            "text/plain": [
              "array([13, 23])"
            ]
          },
          "metadata": {},
          "execution_count": 86
        }
      ]
    },
    {
      "cell_type": "code",
      "source": [
        "x = np.array([[1,0],[0,1]]) #definiendo array x\n",
        "x"
      ],
      "metadata": {
        "colab": {
          "base_uri": "https://localhost:8080/"
        },
        "id": "6v5_AS1zlJyL",
        "outputId": "aab24370-6624-46f4-f440-b03746481b76"
      },
      "execution_count": 87,
      "outputs": [
        {
          "output_type": "execute_result",
          "data": {
            "text/plain": [
              "array([[1, 0],\n",
              "       [0, 1]])"
            ]
          },
          "metadata": {},
          "execution_count": 87
        }
      ]
    },
    {
      "cell_type": "code",
      "source": [
        "y = np.array([[2,1],[1,2]]) #definiendo array y\n",
        "y"
      ],
      "metadata": {
        "colab": {
          "base_uri": "https://localhost:8080/"
        },
        "id": "EwK6eZ7llfX4",
        "outputId": "96002836-41bd-49aa-bfa4-f1e516b19776"
      },
      "execution_count": 88,
      "outputs": [
        {
          "output_type": "execute_result",
          "data": {
            "text/plain": [
              "array([[2, 1],\n",
              "       [1, 2]])"
            ]
          },
          "metadata": {},
          "execution_count": 88
        }
      ]
    },
    {
      "cell_type": "code",
      "source": [
        "z = x+y #realizando suma de arrays\n",
        "z"
      ],
      "metadata": {
        "colab": {
          "base_uri": "https://localhost:8080/"
        },
        "id": "YRlxG21_ll5t",
        "outputId": "15e9cd78-d9dd-4777-ef14-ff6cb38ec21c"
      },
      "execution_count": 90,
      "outputs": [
        {
          "output_type": "execute_result",
          "data": {
            "text/plain": [
              "array([[3, 1],\n",
              "       [1, 3]])"
            ]
          },
          "metadata": {},
          "execution_count": 90
        }
      ]
    },
    {
      "cell_type": "code",
      "source": [
        "2*y #multiplicando array por 2"
      ],
      "metadata": {
        "colab": {
          "base_uri": "https://localhost:8080/"
        },
        "id": "91TyBwJImDPe",
        "outputId": "5f6e8333-2a38-40db-96f1-1e9bc4b801af"
      },
      "execution_count": 92,
      "outputs": [
        {
          "output_type": "execute_result",
          "data": {
            "text/plain": [
              "array([[4, 2],\n",
              "       [2, 4]])"
            ]
          },
          "metadata": {},
          "execution_count": 92
        }
      ]
    },
    {
      "cell_type": "code",
      "source": [
        "z = x*y #producto hadamard \n",
        "z"
      ],
      "metadata": {
        "colab": {
          "base_uri": "https://localhost:8080/"
        },
        "id": "WvEUOTcumTnE",
        "outputId": "17136621-068b-43ac-a272-b71a6bad08e1"
      },
      "execution_count": 95,
      "outputs": [
        {
          "output_type": "execute_result",
          "data": {
            "text/plain": [
              "array([[2, 0],\n",
              "       [0, 2]])"
            ]
          },
          "metadata": {},
          "execution_count": 95
        }
      ]
    },
    {
      "cell_type": "markdown",
      "source": [
        "Para poder realizar el producto punto de un array:\n",
        "\n",
        "el número de columnas del array1 debe ser igual al número de filas del array2\n",
        "\n"
      ],
      "metadata": {
        "id": "Y90O3tqLmisQ"
      }
    },
    {
      "cell_type": "code",
      "source": [
        "A = np.array([[0,1,1],[1,0,1]])\n",
        "B = np.array([[1,1],[1,1],[-1,1]])\n",
        "C = np.dot(A,B)\n",
        "C"
      ],
      "metadata": {
        "colab": {
          "base_uri": "https://localhost:8080/"
        },
        "id": "kTsLiMscmiPm",
        "outputId": "5d37c220-c974-4cae-dfe5-e59a8acacf79"
      },
      "execution_count": 96,
      "outputs": [
        {
          "output_type": "execute_result",
          "data": {
            "text/plain": [
              "array([[0, 2],\n",
              "       [0, 2]])"
            ]
          },
          "metadata": {},
          "execution_count": 96
        }
      ]
    },
    {
      "cell_type": "code",
      "source": [
        "C.T"
      ],
      "metadata": {
        "colab": {
          "base_uri": "https://localhost:8080/"
        },
        "id": "NG46dVGUmaeh",
        "outputId": "28f3bfdf-fae4-4e09-cd17-72e07f966e22"
      },
      "execution_count": 98,
      "outputs": [
        {
          "output_type": "execute_result",
          "data": {
            "text/plain": [
              "array([[0, 0],\n",
              "       [2, 2]])"
            ]
          },
          "metadata": {},
          "execution_count": 98
        }
      ]
    },
    {
      "cell_type": "code",
      "source": [
        "a=np.array([0,1])\n",
        "\n",
        "b=np.array([1,0])\n",
        "\n",
        "np.dot(a,b)\n",
        "\n",
        "\n"
      ],
      "metadata": {
        "colab": {
          "base_uri": "https://localhost:8080/"
        },
        "id": "inVpQUIon8dC",
        "outputId": "6d0f535b-c820-42da-d38f-8d05d11099f5"
      },
      "execution_count": 99,
      "outputs": [
        {
          "output_type": "execute_result",
          "data": {
            "text/plain": [
              "0"
            ]
          },
          "metadata": {},
          "execution_count": 99
        }
      ]
    },
    {
      "cell_type": "code",
      "source": [
        "int(3.2)"
      ],
      "metadata": {
        "colab": {
          "base_uri": "https://localhost:8080/"
        },
        "id": "hQF_lVx8vi2V",
        "outputId": "907dfc23-4b69-480f-8eb7-a1ace973f611"
      },
      "execution_count": 100,
      "outputs": [
        {
          "output_type": "execute_result",
          "data": {
            "text/plain": [
              "3"
            ]
          },
          "metadata": {},
          "execution_count": 100
        }
      ]
    },
    {
      "cell_type": "markdown",
      "source": [
        "![Captura.PNG](data:image/png;base64,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)"
      ],
      "metadata": {
        "id": "Pj-9zDKzwamX"
      }
    }
  ],
  "metadata": {
    "colab": {
      "provenance": [],
      "authorship_tag": "ABX9TyPHRMWtxj+m739c75SN4mI7",
      "include_colab_link": true
    },
    "kernelspec": {
      "display_name": "Python 3",
      "name": "python3"
    },
    "language_info": {
      "name": "python"
    }
  },
  "nbformat": 4,
  "nbformat_minor": 0
}