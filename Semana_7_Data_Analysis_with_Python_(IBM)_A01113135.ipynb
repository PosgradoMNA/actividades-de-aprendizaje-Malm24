{
  "nbformat": 4,
  "nbformat_minor": 0,
  "metadata": {
    "colab": {
      "provenance": [],
      "collapsed_sections": [],
      "authorship_tag": "ABX9TyO2QsrwwExhkv70l+UWoYFJ",
      "include_colab_link": true
    },
    "kernelspec": {
      "name": "python3",
      "display_name": "Python 3"
    },
    "language_info": {
      "name": "python"
    }
  },
  "cells": [
    {
      "cell_type": "markdown",
      "metadata": {
        "id": "view-in-github",
        "colab_type": "text"
      },
      "source": [
        "<a href=\"https://colab.research.google.com/github/PosgradoMNA/actividades-de-aprendizaje-Malm24/blob/main/Semana_7_Data_Analysis_with_Python_(IBM)_A01113135.ipynb\" target=\"_parent\"><img src=\"https://colab.research.google.com/assets/colab-badge.svg\" alt=\"Open In Colab\"/></a>"
      ]
    },
    {
      "cell_type": "markdown",
      "source": [
        "**Semana 7: Data Analysis with Python (IBM)\n",
        "Marco Antonio López Millán A01113135\n",
        "Ciencia y analítica de datos (Gpo 10)\n",
        "01/11/2022**"
      ],
      "metadata": {
        "id": "nqp1r4c2xbi_"
      }
    },
    {
      "cell_type": "markdown",
      "source": [
        "Modelo - ecuacion matematica utilizada para predecir una valor por medio de otros.\n",
        "\n",
        "A mayor informacion relevante > mejor sera la prediccion de tu Modelo\n",
        "\n",
        "Regresion lineal simple > relación entre dos variables \"X\" y \"y\" utilzando una pendiente y el intercepto con el eje.\n",
        "\n"
      ],
      "metadata": {
        "id": "sEZEI2_qigD5"
      }
    },
    {
      "cell_type": "code",
      "source": [
        "from sklearn.linear_model import LinearRegression\n",
        "import pandas as pd\n",
        "import numpy as np\n",
        "import seaborn as sns\n",
        "import matplotlib.pyplot as plt\n",
        "%matplotlib inline \n",
        "from sklearn.preprocessing import PolynomialFeatures\n",
        "from sklearn.preprocessing import StandardScaler\n",
        "from sklearn.metrics import mean_squared_error\n",
        "from sklearn.pipeline import Pipeline\n",
        "from sklearn.metrics import mean_squared_error\n",
        "from sklearn.metrics import r2_score\n"
      ],
      "metadata": {
        "id": "epQI6pP5jx-P"
      },
      "execution_count": null,
      "outputs": []
    },
    {
      "cell_type": "code",
      "source": [
        "archivo = \"/content/automobileEDA.csv\" #importando archivo\n",
        "df =pd.read_csv(archivo) #creando df"
      ],
      "metadata": {
        "id": "W_G5AFP3lWfn"
      },
      "execution_count": null,
      "outputs": []
    },
    {
      "cell_type": "code",
      "source": [
        "df.head(5)"
      ],
      "metadata": {
        "colab": {
          "base_uri": "https://localhost:8080/",
          "height": 386
        },
        "id": "OGY4n_0Sl8wx",
        "outputId": "ffcd18f8-f913-4450-cf9d-5bc8ac3abcf6"
      },
      "execution_count": null,
      "outputs": [
        {
          "output_type": "execute_result",
          "data": {
            "text/plain": [
              "   symboling  normalized-losses         make aspiration num-of-doors  \\\n",
              "0          3                122  alfa-romero        std          two   \n",
              "1          3                122  alfa-romero        std          two   \n",
              "2          1                122  alfa-romero        std          two   \n",
              "3          2                164         audi        std         four   \n",
              "4          2                164         audi        std         four   \n",
              "\n",
              "    body-style drive-wheels engine-location  wheel-base    length  ...  \\\n",
              "0  convertible          rwd           front        88.6  0.811148  ...   \n",
              "1  convertible          rwd           front        88.6  0.811148  ...   \n",
              "2    hatchback          rwd           front        94.5  0.822681  ...   \n",
              "3        sedan          fwd           front        99.8  0.848630  ...   \n",
              "4        sedan          4wd           front        99.4  0.848630  ...   \n",
              "\n",
              "   compression-ratio  horsepower  peak-rpm city-mpg highway-mpg    price  \\\n",
              "0                9.0       111.0    5000.0       21          27  13495.0   \n",
              "1                9.0       111.0    5000.0       21          27  16500.0   \n",
              "2                9.0       154.0    5000.0       19          26  16500.0   \n",
              "3               10.0       102.0    5500.0       24          30  13950.0   \n",
              "4                8.0       115.0    5500.0       18          22  17450.0   \n",
              "\n",
              "  city-L/100km  horsepower-binned  diesel  gas  \n",
              "0    11.190476             Medium       0    1  \n",
              "1    11.190476             Medium       0    1  \n",
              "2    12.368421             Medium       0    1  \n",
              "3     9.791667             Medium       0    1  \n",
              "4    13.055556             Medium       0    1  \n",
              "\n",
              "[5 rows x 29 columns]"
            ],
            "text/html": [
              "\n",
              "  <div id=\"df-5ae6dc31-599f-42e1-a0ae-210dff705627\">\n",
              "    <div class=\"colab-df-container\">\n",
              "      <div>\n",
              "<style scoped>\n",
              "    .dataframe tbody tr th:only-of-type {\n",
              "        vertical-align: middle;\n",
              "    }\n",
              "\n",
              "    .dataframe tbody tr th {\n",
              "        vertical-align: top;\n",
              "    }\n",
              "\n",
              "    .dataframe thead th {\n",
              "        text-align: right;\n",
              "    }\n",
              "</style>\n",
              "<table border=\"1\" class=\"dataframe\">\n",
              "  <thead>\n",
              "    <tr style=\"text-align: right;\">\n",
              "      <th></th>\n",
              "      <th>symboling</th>\n",
              "      <th>normalized-losses</th>\n",
              "      <th>make</th>\n",
              "      <th>aspiration</th>\n",
              "      <th>num-of-doors</th>\n",
              "      <th>body-style</th>\n",
              "      <th>drive-wheels</th>\n",
              "      <th>engine-location</th>\n",
              "      <th>wheel-base</th>\n",
              "      <th>length</th>\n",
              "      <th>...</th>\n",
              "      <th>compression-ratio</th>\n",
              "      <th>horsepower</th>\n",
              "      <th>peak-rpm</th>\n",
              "      <th>city-mpg</th>\n",
              "      <th>highway-mpg</th>\n",
              "      <th>price</th>\n",
              "      <th>city-L/100km</th>\n",
              "      <th>horsepower-binned</th>\n",
              "      <th>diesel</th>\n",
              "      <th>gas</th>\n",
              "    </tr>\n",
              "  </thead>\n",
              "  <tbody>\n",
              "    <tr>\n",
              "      <th>0</th>\n",
              "      <td>3</td>\n",
              "      <td>122</td>\n",
              "      <td>alfa-romero</td>\n",
              "      <td>std</td>\n",
              "      <td>two</td>\n",
              "      <td>convertible</td>\n",
              "      <td>rwd</td>\n",
              "      <td>front</td>\n",
              "      <td>88.6</td>\n",
              "      <td>0.811148</td>\n",
              "      <td>...</td>\n",
              "      <td>9.0</td>\n",
              "      <td>111.0</td>\n",
              "      <td>5000.0</td>\n",
              "      <td>21</td>\n",
              "      <td>27</td>\n",
              "      <td>13495.0</td>\n",
              "      <td>11.190476</td>\n",
              "      <td>Medium</td>\n",
              "      <td>0</td>\n",
              "      <td>1</td>\n",
              "    </tr>\n",
              "    <tr>\n",
              "      <th>1</th>\n",
              "      <td>3</td>\n",
              "      <td>122</td>\n",
              "      <td>alfa-romero</td>\n",
              "      <td>std</td>\n",
              "      <td>two</td>\n",
              "      <td>convertible</td>\n",
              "      <td>rwd</td>\n",
              "      <td>front</td>\n",
              "      <td>88.6</td>\n",
              "      <td>0.811148</td>\n",
              "      <td>...</td>\n",
              "      <td>9.0</td>\n",
              "      <td>111.0</td>\n",
              "      <td>5000.0</td>\n",
              "      <td>21</td>\n",
              "      <td>27</td>\n",
              "      <td>16500.0</td>\n",
              "      <td>11.190476</td>\n",
              "      <td>Medium</td>\n",
              "      <td>0</td>\n",
              "      <td>1</td>\n",
              "    </tr>\n",
              "    <tr>\n",
              "      <th>2</th>\n",
              "      <td>1</td>\n",
              "      <td>122</td>\n",
              "      <td>alfa-romero</td>\n",
              "      <td>std</td>\n",
              "      <td>two</td>\n",
              "      <td>hatchback</td>\n",
              "      <td>rwd</td>\n",
              "      <td>front</td>\n",
              "      <td>94.5</td>\n",
              "      <td>0.822681</td>\n",
              "      <td>...</td>\n",
              "      <td>9.0</td>\n",
              "      <td>154.0</td>\n",
              "      <td>5000.0</td>\n",
              "      <td>19</td>\n",
              "      <td>26</td>\n",
              "      <td>16500.0</td>\n",
              "      <td>12.368421</td>\n",
              "      <td>Medium</td>\n",
              "      <td>0</td>\n",
              "      <td>1</td>\n",
              "    </tr>\n",
              "    <tr>\n",
              "      <th>3</th>\n",
              "      <td>2</td>\n",
              "      <td>164</td>\n",
              "      <td>audi</td>\n",
              "      <td>std</td>\n",
              "      <td>four</td>\n",
              "      <td>sedan</td>\n",
              "      <td>fwd</td>\n",
              "      <td>front</td>\n",
              "      <td>99.8</td>\n",
              "      <td>0.848630</td>\n",
              "      <td>...</td>\n",
              "      <td>10.0</td>\n",
              "      <td>102.0</td>\n",
              "      <td>5500.0</td>\n",
              "      <td>24</td>\n",
              "      <td>30</td>\n",
              "      <td>13950.0</td>\n",
              "      <td>9.791667</td>\n",
              "      <td>Medium</td>\n",
              "      <td>0</td>\n",
              "      <td>1</td>\n",
              "    </tr>\n",
              "    <tr>\n",
              "      <th>4</th>\n",
              "      <td>2</td>\n",
              "      <td>164</td>\n",
              "      <td>audi</td>\n",
              "      <td>std</td>\n",
              "      <td>four</td>\n",
              "      <td>sedan</td>\n",
              "      <td>4wd</td>\n",
              "      <td>front</td>\n",
              "      <td>99.4</td>\n",
              "      <td>0.848630</td>\n",
              "      <td>...</td>\n",
              "      <td>8.0</td>\n",
              "      <td>115.0</td>\n",
              "      <td>5500.0</td>\n",
              "      <td>18</td>\n",
              "      <td>22</td>\n",
              "      <td>17450.0</td>\n",
              "      <td>13.055556</td>\n",
              "      <td>Medium</td>\n",
              "      <td>0</td>\n",
              "      <td>1</td>\n",
              "    </tr>\n",
              "  </tbody>\n",
              "</table>\n",
              "<p>5 rows × 29 columns</p>\n",
              "</div>\n",
              "      <button class=\"colab-df-convert\" onclick=\"convertToInteractive('df-5ae6dc31-599f-42e1-a0ae-210dff705627')\"\n",
              "              title=\"Convert this dataframe to an interactive table.\"\n",
              "              style=\"display:none;\">\n",
              "        \n",
              "  <svg xmlns=\"http://www.w3.org/2000/svg\" height=\"24px\"viewBox=\"0 0 24 24\"\n",
              "       width=\"24px\">\n",
              "    <path d=\"M0 0h24v24H0V0z\" fill=\"none\"/>\n",
              "    <path d=\"M18.56 5.44l.94 2.06.94-2.06 2.06-.94-2.06-.94-.94-2.06-.94 2.06-2.06.94zm-11 1L8.5 8.5l.94-2.06 2.06-.94-2.06-.94L8.5 2.5l-.94 2.06-2.06.94zm10 10l.94 2.06.94-2.06 2.06-.94-2.06-.94-.94-2.06-.94 2.06-2.06.94z\"/><path d=\"M17.41 7.96l-1.37-1.37c-.4-.4-.92-.59-1.43-.59-.52 0-1.04.2-1.43.59L10.3 9.45l-7.72 7.72c-.78.78-.78 2.05 0 2.83L4 21.41c.39.39.9.59 1.41.59.51 0 1.02-.2 1.41-.59l7.78-7.78 2.81-2.81c.8-.78.8-2.07 0-2.86zM5.41 20L4 18.59l7.72-7.72 1.47 1.35L5.41 20z\"/>\n",
              "  </svg>\n",
              "      </button>\n",
              "      \n",
              "  <style>\n",
              "    .colab-df-container {\n",
              "      display:flex;\n",
              "      flex-wrap:wrap;\n",
              "      gap: 12px;\n",
              "    }\n",
              "\n",
              "    .colab-df-convert {\n",
              "      background-color: #E8F0FE;\n",
              "      border: none;\n",
              "      border-radius: 50%;\n",
              "      cursor: pointer;\n",
              "      display: none;\n",
              "      fill: #1967D2;\n",
              "      height: 32px;\n",
              "      padding: 0 0 0 0;\n",
              "      width: 32px;\n",
              "    }\n",
              "\n",
              "    .colab-df-convert:hover {\n",
              "      background-color: #E2EBFA;\n",
              "      box-shadow: 0px 1px 2px rgba(60, 64, 67, 0.3), 0px 1px 3px 1px rgba(60, 64, 67, 0.15);\n",
              "      fill: #174EA6;\n",
              "    }\n",
              "\n",
              "    [theme=dark] .colab-df-convert {\n",
              "      background-color: #3B4455;\n",
              "      fill: #D2E3FC;\n",
              "    }\n",
              "\n",
              "    [theme=dark] .colab-df-convert:hover {\n",
              "      background-color: #434B5C;\n",
              "      box-shadow: 0px 1px 3px 1px rgba(0, 0, 0, 0.15);\n",
              "      filter: drop-shadow(0px 1px 2px rgba(0, 0, 0, 0.3));\n",
              "      fill: #FFFFFF;\n",
              "    }\n",
              "  </style>\n",
              "\n",
              "      <script>\n",
              "        const buttonEl =\n",
              "          document.querySelector('#df-5ae6dc31-599f-42e1-a0ae-210dff705627 button.colab-df-convert');\n",
              "        buttonEl.style.display =\n",
              "          google.colab.kernel.accessAllowed ? 'block' : 'none';\n",
              "\n",
              "        async function convertToInteractive(key) {\n",
              "          const element = document.querySelector('#df-5ae6dc31-599f-42e1-a0ae-210dff705627');\n",
              "          const dataTable =\n",
              "            await google.colab.kernel.invokeFunction('convertToInteractive',\n",
              "                                                     [key], {});\n",
              "          if (!dataTable) return;\n",
              "\n",
              "          const docLinkHtml = 'Like what you see? Visit the ' +\n",
              "            '<a target=\"_blank\" href=https://colab.research.google.com/notebooks/data_table.ipynb>data table notebook</a>'\n",
              "            + ' to learn more about interactive tables.';\n",
              "          element.innerHTML = '';\n",
              "          dataTable['output_type'] = 'display_data';\n",
              "          await google.colab.output.renderOutput(dataTable, element);\n",
              "          const docLink = document.createElement('div');\n",
              "          docLink.innerHTML = docLinkHtml;\n",
              "          element.appendChild(docLink);\n",
              "        }\n",
              "      </script>\n",
              "    </div>\n",
              "  </div>\n",
              "  "
            ]
          },
          "metadata": {},
          "execution_count": 6
        }
      ]
    },
    {
      "cell_type": "code",
      "source": [
        "lm = LinearRegression() #creando el objeto Linear regression"
      ],
      "metadata": {
        "id": "bdvMglgTj7k9"
      },
      "execution_count": null,
      "outputs": []
    },
    {
      "cell_type": "code",
      "source": [
        "X =df[[\"highway-mpg\"]] #definiendo variables\n",
        "Y=df[\"price\"]"
      ],
      "metadata": {
        "id": "Q-mTK-u3j-XN"
      },
      "execution_count": null,
      "outputs": []
    },
    {
      "cell_type": "code",
      "source": [
        "lm.fit(X,Y) #fit regresion lineal"
      ],
      "metadata": {
        "colab": {
          "base_uri": "https://localhost:8080/"
        },
        "id": "bE5Hsa_OkK-h",
        "outputId": "192edf31-af5a-4dc2-e3ad-f131969252f5"
      },
      "execution_count": null,
      "outputs": [
        {
          "output_type": "execute_result",
          "data": {
            "text/plain": [
              "LinearRegression()"
            ]
          },
          "metadata": {},
          "execution_count": 9
        }
      ]
    },
    {
      "cell_type": "code",
      "source": [
        "Yhat=lm.predict(X) #realizando predicciones"
      ],
      "metadata": {
        "id": "QTqFJ6_-kNdW"
      },
      "execution_count": null,
      "outputs": []
    },
    {
      "cell_type": "code",
      "source": [
        "Yhat[0:5] #observar los primeros cinco resultados"
      ],
      "metadata": {
        "colab": {
          "base_uri": "https://localhost:8080/"
        },
        "id": "vYh8xVy9rrPE",
        "outputId": "c2642983-9eeb-4885-9029-36d92f3b4a28"
      },
      "execution_count": null,
      "outputs": [
        {
          "output_type": "execute_result",
          "data": {
            "text/plain": [
              "array([16236.50464347, 16236.50464347, 17058.23802179, 13771.3045085 ,\n",
              "       20345.17153508])"
            ]
          },
          "metadata": {},
          "execution_count": 11
        }
      ]
    },
    {
      "cell_type": "code",
      "source": [
        "lm.intercept_ #obteniendo el intercepto"
      ],
      "metadata": {
        "colab": {
          "base_uri": "https://localhost:8080/"
        },
        "id": "WWXoQx3akS1V",
        "outputId": "f19b9bd0-ffea-433f-a646-61b323b8d707"
      },
      "execution_count": null,
      "outputs": [
        {
          "output_type": "execute_result",
          "data": {
            "text/plain": [
              "38423.3058581574"
            ]
          },
          "metadata": {},
          "execution_count": 12
        }
      ]
    },
    {
      "cell_type": "code",
      "source": [
        "lm.coef_ #obteniendo coeficiente"
      ],
      "metadata": {
        "colab": {
          "base_uri": "https://localhost:8080/"
        },
        "id": "_udcl7tbkVUD",
        "outputId": "8e4f69a6-fb6f-4e12-e8e1-662127635512"
      },
      "execution_count": null,
      "outputs": [
        {
          "output_type": "execute_result",
          "data": {
            "text/plain": [
              "array([-821.73337832])"
            ]
          },
          "metadata": {},
          "execution_count": 13
        }
      ]
    },
    {
      "cell_type": "markdown",
      "source": [
        "## Función\n",
        "## Precio = 38423.31 - 821.73 x highway-mp"
      ],
      "metadata": {
        "id": "jsApRUqk_X11"
      }
    },
    {
      "cell_type": "code",
      "source": [
        "lm1 =LinearRegression() #creando regresion lineal"
      ],
      "metadata": {
        "id": "PoYXmXWAABGJ"
      },
      "execution_count": null,
      "outputs": []
    },
    {
      "cell_type": "code",
      "source": [
        "X2 =df[[\"engine-size\"]] #definiendo variables\n",
        "Y2=df[\"price\"]"
      ],
      "metadata": {
        "id": "10i9smamAIV_"
      },
      "execution_count": null,
      "outputs": []
    },
    {
      "cell_type": "code",
      "source": [
        "lm1.fit(X2,Y2)"
      ],
      "metadata": {
        "colab": {
          "base_uri": "https://localhost:8080/"
        },
        "id": "5B3KhtdDAS4X",
        "outputId": "a5f57b2e-5a47-49a9-87a4-2bec8b1b77dd"
      },
      "execution_count": null,
      "outputs": [
        {
          "output_type": "execute_result",
          "data": {
            "text/plain": [
              "LinearRegression()"
            ]
          },
          "metadata": {},
          "execution_count": 16
        }
      ]
    },
    {
      "cell_type": "code",
      "source": [
        "lm1.coef_"
      ],
      "metadata": {
        "colab": {
          "base_uri": "https://localhost:8080/"
        },
        "id": "vg3l-pLIAkIf",
        "outputId": "7101164c-be7f-4c87-a472-a13476a51ef6"
      },
      "execution_count": null,
      "outputs": [
        {
          "output_type": "execute_result",
          "data": {
            "text/plain": [
              "array([166.86001569])"
            ]
          },
          "metadata": {},
          "execution_count": 17
        }
      ]
    },
    {
      "cell_type": "code",
      "source": [
        "lm1.intercept_"
      ],
      "metadata": {
        "colab": {
          "base_uri": "https://localhost:8080/"
        },
        "id": "3mRC3KLgAkFO",
        "outputId": "9ba04dcc-a2ec-4efb-d844-474ed58babce"
      },
      "execution_count": null,
      "outputs": [
        {
          "output_type": "execute_result",
          "data": {
            "text/plain": [
              "-7963.338906281042"
            ]
          },
          "metadata": {},
          "execution_count": 18
        }
      ]
    },
    {
      "cell_type": "markdown",
      "source": [
        "##Función\n",
        "##Precio = -7963.34 + 166.86*engine-size"
      ],
      "metadata": {
        "id": "zIUlSTQDA804"
      }
    },
    {
      "cell_type": "markdown",
      "source": [
        "Regresion lineal multiple > relacion entre dos o mas variables con una variable dependiente"
      ],
      "metadata": {
        "id": "K_MOVxbakd_V"
      }
    },
    {
      "cell_type": "code",
      "source": [
        "Z = df[['horsepower', 'curb-weight', 'engine-size', 'highway-mpg']] #definiendo variables predictoras"
      ],
      "metadata": {
        "id": "0FXMfms7AkGY"
      },
      "execution_count": null,
      "outputs": []
    },
    {
      "cell_type": "code",
      "source": [
        "lm.fit(Z, df['price']) # fit modelo lineal"
      ],
      "metadata": {
        "colab": {
          "base_uri": "https://localhost:8080/"
        },
        "id": "A1uRBuAzDu0F",
        "outputId": "494b95d7-ac2c-49ce-b81a-0ff85ffd4c30"
      },
      "execution_count": null,
      "outputs": [
        {
          "output_type": "execute_result",
          "data": {
            "text/plain": [
              "LinearRegression()"
            ]
          },
          "metadata": {},
          "execution_count": 20
        }
      ]
    },
    {
      "cell_type": "code",
      "source": [
        "lm.intercept_ #intercepto\n"
      ],
      "metadata": {
        "colab": {
          "base_uri": "https://localhost:8080/"
        },
        "id": "smKI7e5JDwVM",
        "outputId": "518789e8-b0e7-4a6c-9b25-96815de6c89d"
      },
      "execution_count": null,
      "outputs": [
        {
          "output_type": "execute_result",
          "data": {
            "text/plain": [
              "-15806.62462632922"
            ]
          },
          "metadata": {},
          "execution_count": 21
        }
      ]
    },
    {
      "cell_type": "code",
      "source": [
        "lm.coef_ #coeficientes"
      ],
      "metadata": {
        "colab": {
          "base_uri": "https://localhost:8080/"
        },
        "id": "m57IHsDkDzxq",
        "outputId": "fa7ba255-13a4-4e81-86cd-39290af6baca"
      },
      "execution_count": null,
      "outputs": [
        {
          "output_type": "execute_result",
          "data": {
            "text/plain": [
              "array([53.49574423,  4.70770099, 81.53026382, 36.05748882])"
            ]
          },
          "metadata": {},
          "execution_count": 22
        }
      ]
    },
    {
      "cell_type": "code",
      "source": [
        "lm2 = LinearRegression() #nueva regresion"
      ],
      "metadata": {
        "id": "Jc8JLNGzCDih"
      },
      "execution_count": null,
      "outputs": []
    },
    {
      "cell_type": "code",
      "source": [
        "Z1 = df[['normalized-losses' , 'highway-mpg']] #definiendo variables"
      ],
      "metadata": {
        "id": "7zHCi1wxk53L"
      },
      "execution_count": null,
      "outputs": []
    },
    {
      "cell_type": "code",
      "source": [
        "lm2.fit(Z1,df['price']) #fit linear regresion"
      ],
      "metadata": {
        "colab": {
          "base_uri": "https://localhost:8080/"
        },
        "id": "1xUd6MG5DEA-",
        "outputId": "96273969-09ff-4490-99b0-cae590d41a41"
      },
      "execution_count": null,
      "outputs": [
        {
          "output_type": "execute_result",
          "data": {
            "text/plain": [
              "LinearRegression()"
            ]
          },
          "metadata": {},
          "execution_count": 25
        }
      ]
    },
    {
      "cell_type": "code",
      "source": [
        "lm2.coef_ #coeficientes"
      ],
      "metadata": {
        "colab": {
          "base_uri": "https://localhost:8080/"
        },
        "id": "NjOHAdtaDKMY",
        "outputId": "505694ae-ad1d-4bd6-a19b-ed5dc8ee8d0e"
      },
      "execution_count": null,
      "outputs": [
        {
          "output_type": "execute_result",
          "data": {
            "text/plain": [
              "array([   1.49789586, -820.45434016])"
            ]
          },
          "metadata": {},
          "execution_count": 26
        }
      ]
    },
    {
      "cell_type": "code",
      "source": [
        "lm2.intercept_ #intercepto"
      ],
      "metadata": {
        "colab": {
          "base_uri": "https://localhost:8080/"
        },
        "id": "v0XcObbjDPKx",
        "outputId": "c5d85dac-53af-4d0f-cd25-a2d5a8e3dc0c"
      },
      "execution_count": null,
      "outputs": [
        {
          "output_type": "execute_result",
          "data": {
            "text/plain": [
              "38201.31327245728"
            ]
          },
          "metadata": {},
          "execution_count": 27
        }
      ]
    },
    {
      "cell_type": "markdown",
      "source": [
        "Evaluación de modelo utilizando visualizacion"
      ],
      "metadata": {
        "id": "9c1gg0qLEewk"
      }
    },
    {
      "cell_type": "code",
      "source": [
        "width = 12\n",
        "height = 10\n",
        "plt.figure(figsize=(width, height))\n",
        "sns.regplot (x=\"highway-mpg\", y=\"price\", data=df)\n",
        "plt.ylim(0,)"
      ],
      "metadata": {
        "colab": {
          "base_uri": "https://localhost:8080/",
          "height": 623
        },
        "id": "EctNPZyMrune",
        "outputId": "5683aac8-fa83-43cf-c6ed-0aa63e2a09ae"
      },
      "execution_count": null,
      "outputs": [
        {
          "output_type": "execute_result",
          "data": {
            "text/plain": [
              "(0.0, 48175.686356873004)"
            ]
          },
          "metadata": {},
          "execution_count": 28
        },
        {
          "output_type": "display_data",
          "data": {
            "text/plain": [
              "<Figure size 864x720 with 1 Axes>"
            ],
            "image/png": "[encoded data removed]"
          },
          "metadata": {
            "needs_background": "light"
          }
        }
      ]
    },
    {
      "cell_type": "code",
      "source": [
        "plt.figure(figsize=(width, height))\n",
        "sns.regplot(x=\"peak-rpm\", y=\"price\", data=df)\n",
        "plt.ylim(0,)"
      ],
      "metadata": {
        "colab": {
          "base_uri": "https://localhost:8080/",
          "height": 623
        },
        "id": "XKfz5F3fE0ER",
        "outputId": "0d453987-706b-47a5-c276-9623c94872ed"
      },
      "execution_count": null,
      "outputs": [
        {
          "output_type": "execute_result",
          "data": {
            "text/plain": [
              "(0.0, 47414.1)"
            ]
          },
          "metadata": {},
          "execution_count": 29
        },
        {
          "output_type": "display_data",
          "data": {
            "text/plain": [
              "<Figure size 864x720 with 1 Axes>"
            ],
            "image/png": "[encoded data removed]"
          },
          "metadata": {
            "needs_background": "light"
          }
        }
      ]
    },
    {
      "cell_type": "markdown",
      "source": [
        "Si observamos ambas graficas podemos ocncluir  que la grafica de \"highway-mpg\" se encuentran mas cercanos a la linea mientras que el grafico \"peak-rpm\" los datos se encuentran mas dipersos y la tendencia no es evidente."
      ],
      "metadata": {
        "id": "W6DxzxJyE5bg"
      }
    },
    {
      "cell_type": "code",
      "source": [
        "df[[\"peak-rpm\",\"highway-mpg\",\"price\"]].corr()"
      ],
      "metadata": {
        "colab": {
          "base_uri": "https://localhost:8080/",
          "height": 143
        },
        "id": "Ib-WsQEBFQkg",
        "outputId": "8efd0c8d-de8c-4d80-db45-385f7e01bbc3"
      },
      "execution_count": null,
      "outputs": [
        {
          "output_type": "execute_result",
          "data": {
            "text/plain": [
              "             peak-rpm  highway-mpg     price\n",
              "peak-rpm     1.000000    -0.058598 -0.101616\n",
              "highway-mpg -0.058598     1.000000 -0.704692\n",
              "price       -0.101616    -0.704692  1.000000"
            ],
            "text/html": [
              "\n",
              "  <div id=\"df-ba4e0941-f887-4d2c-a37f-eb740668e18b\">\n",
              "    <div class=\"colab-df-container\">\n",
              "      <div>\n",
              "<style scoped>\n",
              "    .dataframe tbody tr th:only-of-type {\n",
              "        vertical-align: middle;\n",
              "    }\n",
              "\n",
              "    .dataframe tbody tr th {\n",
              "        vertical-align: top;\n",
              "    }\n",
              "\n",
              "    .dataframe thead th {\n",
              "        text-align: right;\n",
              "    }\n",
              "</style>\n",
              "<table border=\"1\" class=\"dataframe\">\n",
              "  <thead>\n",
              "    <tr style=\"text-align: right;\">\n",
              "      <th></th>\n",
              "      <th>peak-rpm</th>\n",
              "      <th>highway-mpg</th>\n",
              "      <th>price</th>\n",
              "    </tr>\n",
              "  </thead>\n",
              "  <tbody>\n",
              "    <tr>\n",
              "      <th>peak-rpm</th>\n",
              "      <td>1.000000</td>\n",
              "      <td>-0.058598</td>\n",
              "      <td>-0.101616</td>\n",
              "    </tr>\n",
              "    <tr>\n",
              "      <th>highway-mpg</th>\n",
              "      <td>-0.058598</td>\n",
              "      <td>1.000000</td>\n",
              "      <td>-0.704692</td>\n",
              "    </tr>\n",
              "    <tr>\n",
              "      <th>price</th>\n",
              "      <td>-0.101616</td>\n",
              "      <td>-0.704692</td>\n",
              "      <td>1.000000</td>\n",
              "    </tr>\n",
              "  </tbody>\n",
              "</table>\n",
              "</div>\n",
              "      <button class=\"colab-df-convert\" onclick=\"convertToInteractive('df-ba4e0941-f887-4d2c-a37f-eb740668e18b')\"\n",
              "              title=\"Convert this dataframe to an interactive table.\"\n",
              "              style=\"display:none;\">\n",
              "        \n",
              "  <svg xmlns=\"http://www.w3.org/2000/svg\" height=\"24px\"viewBox=\"0 0 24 24\"\n",
              "       width=\"24px\">\n",
              "    <path d=\"M0 0h24v24H0V0z\" fill=\"none\"/>\n",
              "    <path d=\"M18.56 5.44l.94 2.06.94-2.06 2.06-.94-2.06-.94-.94-2.06-.94 2.06-2.06.94zm-11 1L8.5 8.5l.94-2.06 2.06-.94-2.06-.94L8.5 2.5l-.94 2.06-2.06.94zm10 10l.94 2.06.94-2.06 2.06-.94-2.06-.94-.94-2.06-.94 2.06-2.06.94z\"/><path d=\"M17.41 7.96l-1.37-1.37c-.4-.4-.92-.59-1.43-.59-.52 0-1.04.2-1.43.59L10.3 9.45l-7.72 7.72c-.78.78-.78 2.05 0 2.83L4 21.41c.39.39.9.59 1.41.59.51 0 1.02-.2 1.41-.59l7.78-7.78 2.81-2.81c.8-.78.8-2.07 0-2.86zM5.41 20L4 18.59l7.72-7.72 1.47 1.35L5.41 20z\"/>\n",
              "  </svg>\n",
              "      </button>\n",
              "      \n",
              "  <style>\n",
              "    .colab-df-container {\n",
              "      display:flex;\n",
              "      flex-wrap:wrap;\n",
              "      gap: 12px;\n",
              "    }\n",
              "\n",
              "    .colab-df-convert {\n",
              "      background-color: #E8F0FE;\n",
              "      border: none;\n",
              "      border-radius: 50%;\n",
              "      cursor: pointer;\n",
              "      display: none;\n",
              "      fill: #1967D2;\n",
              "      height: 32px;\n",
              "      padding: 0 0 0 0;\n",
              "      width: 32px;\n",
              "    }\n",
              "\n",
              "    .colab-df-convert:hover {\n",
              "      background-color: #E2EBFA;\n",
              "      box-shadow: 0px 1px 2px rgba(60, 64, 67, 0.3), 0px 1px 3px 1px rgba(60, 64, 67, 0.15);\n",
              "      fill: #174EA6;\n",
              "    }\n",
              "\n",
              "    [theme=dark] .colab-df-convert {\n",
              "      background-color: #3B4455;\n",
              "      fill: #D2E3FC;\n",
              "    }\n",
              "\n",
              "    [theme=dark] .colab-df-convert:hover {\n",
              "      background-color: #434B5C;\n",
              "      box-shadow: 0px 1px 3px 1px rgba(0, 0, 0, 0.15);\n",
              "      filter: drop-shadow(0px 1px 2px rgba(0, 0, 0, 0.3));\n",
              "      fill: #FFFFFF;\n",
              "    }\n",
              "  </style>\n",
              "\n",
              "      <script>\n",
              "        const buttonEl =\n",
              "          document.querySelector('#df-ba4e0941-f887-4d2c-a37f-eb740668e18b button.colab-df-convert');\n",
              "        buttonEl.style.display =\n",
              "          google.colab.kernel.accessAllowed ? 'block' : 'none';\n",
              "\n",
              "        async function convertToInteractive(key) {\n",
              "          const element = document.querySelector('#df-ba4e0941-f887-4d2c-a37f-eb740668e18b');\n",
              "          const dataTable =\n",
              "            await google.colab.kernel.invokeFunction('convertToInteractive',\n",
              "                                                     [key], {});\n",
              "          if (!dataTable) return;\n",
              "\n",
              "          const docLinkHtml = 'Like what you see? Visit the ' +\n",
              "            '<a target=\"_blank\" href=https://colab.research.google.com/notebooks/data_table.ipynb>data table notebook</a>'\n",
              "            + ' to learn more about interactive tables.';\n",
              "          element.innerHTML = '';\n",
              "          dataTable['output_type'] = 'display_data';\n",
              "          await google.colab.output.renderOutput(dataTable, element);\n",
              "          const docLink = document.createElement('div');\n",
              "          docLink.innerHTML = docLinkHtml;\n",
              "          element.appendChild(docLink);\n",
              "        }\n",
              "      </script>\n",
              "    </div>\n",
              "  </div>\n",
              "  "
            ]
          },
          "metadata": {},
          "execution_count": 30
        }
      ]
    },
    {
      "cell_type": "markdown",
      "source": [
        "Si calculamos lo indices de correlacion podemos comprobar que \"highway-mpg\" tiene una relación mas fuerte pues el valor absoluto su se encuentra mas cercano a 1."
      ],
      "metadata": {
        "id": "5joErutBFRhf"
      }
    },
    {
      "cell_type": "code",
      "source": [
        "width = 12\n",
        "height = 10\n",
        "plt.figure(figsize=(width, height))\n",
        "sns.residplot(df[\"highway-mpg\"], df[\"price\"])"
      ],
      "metadata": {
        "colab": {
          "base_uri": "https://localhost:8080/",
          "height": 678
        },
        "id": "4d6Vn_iFsN4x",
        "outputId": "651de83a-be25-4062-916e-fd61c1b9e77e"
      },
      "execution_count": null,
      "outputs": [
        {
          "output_type": "stream",
          "name": "stderr",
          "text": [
            "/usr/local/lib/python3.7/dist-packages/seaborn/_decorators.py:43: FutureWarning: Pass the following variables as keyword args: x, y. From version 0.12, the only valid positional argument will be `data`, and passing other arguments without an explicit keyword will result in an error or misinterpretation.\n",
            "  FutureWarning\n"
          ]
        },
        {
          "output_type": "execute_result",
          "data": {
            "text/plain": [
              "<matplotlib.axes._subplots.AxesSubplot at 0x7f7f0e725750>"
            ]
          },
          "metadata": {},
          "execution_count": 31
        },
        {
          "output_type": "display_data",
          "data": {
            "text/plain": [
              "<Figure size 864x720 with 1 Axes>"
            ],
            "image/png": "[encoded data removed]"
          },
          "metadata": {
            "needs_background": "light"
          }
        }
      ]
    },
    {
      "cell_type": "markdown",
      "source": [
        "Los datos no se encuentran distribuidos de manera aleatoria a lo largo del eje x por ello podemos concluir que tal vez el modelo lineal no es el mas apropiado."
      ],
      "metadata": {
        "id": "kdfnNXfaFru2"
      }
    },
    {
      "cell_type": "code",
      "source": [
        "Y_hat = lm.predict(Z)"
      ],
      "metadata": {
        "id": "YW2GoL44F9ua"
      },
      "execution_count": null,
      "outputs": []
    },
    {
      "cell_type": "code",
      "source": [
        "plt.figure(figsize=(width, height))\n",
        "\n",
        "\n",
        "ax1 = sns.distplot(df['price'], hist=False, color=\"r\", label=\"Actual Value\")\n",
        "sns.distplot(Y_hat, hist=False, color=\"b\", label=\"Fitted Values\" , ax=ax1)\n",
        "\n",
        "\n",
        "plt.title('Actual vs Fitted Values for Price')\n",
        "plt.xlabel('Price (in dollars)')\n",
        "plt.ylabel('Proportion of Cars')\n",
        "\n",
        "plt.show()\n",
        "plt.close()"
      ],
      "metadata": {
        "colab": {
          "base_uri": "https://localhost:8080/",
          "height": 710
        },
        "id": "Ovqo2zgquDTd",
        "outputId": "3b05be2b-3d04-4ff4-a1a0-7cf0b084cc69"
      },
      "execution_count": null,
      "outputs": [
        {
          "output_type": "stream",
          "name": "stderr",
          "text": [
            "/usr/local/lib/python3.7/dist-packages/seaborn/distributions.py:2619: FutureWarning: `distplot` is a deprecated function and will be removed in a future version. Please adapt your code to use either `displot` (a figure-level function with similar flexibility) or `kdeplot` (an axes-level function for kernel density plots).\n",
            "  warnings.warn(msg, FutureWarning)\n",
            "/usr/local/lib/python3.7/dist-packages/seaborn/distributions.py:2619: FutureWarning: `distplot` is a deprecated function and will be removed in a future version. Please adapt your code to use either `displot` (a figure-level function with similar flexibility) or `kdeplot` (an axes-level function for kernel density plots).\n",
            "  warnings.warn(msg, FutureWarning)\n"
          ]
        },
        {
          "output_type": "display_data",
          "data": {
            "text/plain": [
              "<Figure size 864x720 with 1 Axes>"
            ],
            "image/png": "[encoded data removed]"
          },
          "metadata": {
            "needs_background": "light"
          }
        }
      ]
    },
    {
      "cell_type": "code",
      "source": [
        "def PlotPolly(model, independent_variable, dependent_variabble, Name): #definiendo función para gráfica\n",
        "    x_new = np.linspace(15, 55, 100)\n",
        "    y_new = model(x_new)\n",
        "\n",
        "    plt.plot(independent_variable, dependent_variabble, '.', x_new, y_new, '-')\n",
        "    plt.title('Polynomial Fit with Matplotlib for Price ~ Length')\n",
        "    ax = plt.gca()\n",
        "    ax.set_facecolor((0.898, 0.898, 0.898))\n",
        "    fig = plt.gcf()\n",
        "    plt.xlabel(Name)\n",
        "    plt.ylabel('Price of Cars')\n",
        "\n",
        "    plt.show()\n",
        "    plt.close()"
      ],
      "metadata": {
        "id": "IOe15GZOV8Vp"
      },
      "execution_count": null,
      "outputs": []
    },
    {
      "cell_type": "code",
      "source": [
        "x = df['highway-mpg'] #definiendo x\n",
        "y = df['price'] #definiendo y"
      ],
      "metadata": {
        "id": "UwjgwdjZV-Zq"
      },
      "execution_count": null,
      "outputs": []
    },
    {
      "cell_type": "code",
      "source": [
        "f = np.polyfit(x, y, 3) #uitlizando polinomial de 3er grado\n",
        "p = np.poly1d(f)\n",
        "print(p)"
      ],
      "metadata": {
        "colab": {
          "base_uri": "https://localhost:8080/"
        },
        "id": "81V8NllwWAgs",
        "outputId": "34cec8c6-dfd6-4669-f482-fca51f334cfe"
      },
      "execution_count": null,
      "outputs": [
        {
          "output_type": "stream",
          "name": "stdout",
          "text": [
            "        3         2\n",
            "-1.557 x + 204.8 x - 8965 x + 1.379e+05\n"
          ]
        }
      ]
    },
    {
      "cell_type": "code",
      "source": [
        "PlotPolly(p, x, y, 'highway-mpg') #graficando"
      ],
      "metadata": {
        "colab": {
          "base_uri": "https://localhost:8080/",
          "height": 295
        },
        "id": "iVH6FSjuWP3n",
        "outputId": "a37b7e62-a359-40ff-ec53-3aafeb4adba3"
      },
      "execution_count": null,
      "outputs": [
        {
          "output_type": "display_data",
          "data": {
            "text/plain": [
              "<Figure size 432x288 with 1 Axes>"
            ],
            "image/png": "[encoded data removed]"
          },
          "metadata": {
            "needs_background": "light"
          }
        }
      ]
    },
    {
      "cell_type": "code",
      "source": [
        "np.polyfit(x, y, 3)"
      ],
      "metadata": {
        "colab": {
          "base_uri": "https://localhost:8080/"
        },
        "id": "uPc-wQ_RWRak",
        "outputId": "8992bc5e-11f3-499f-9a18-adab1ecdcbbd"
      },
      "execution_count": null,
      "outputs": [
        {
          "output_type": "execute_result",
          "data": {
            "text/plain": [
              "array([-1.55663829e+00,  2.04754306e+02, -8.96543312e+03,  1.37923594e+05])"
            ]
          },
          "metadata": {},
          "execution_count": 38
        }
      ]
    },
    {
      "cell_type": "code",
      "source": [
        "f1 = np.polyfit(x, y, 11) #poliminal de grado 11\n",
        "p1 = np.poly1d(f1)\n",
        "print(p1)\n",
        "PlotPolly(p1,x,y, 'Highway MPG')"
      ],
      "metadata": {
        "colab": {
          "base_uri": "https://localhost:8080/",
          "height": 364
        },
        "id": "XRdarTrSWYlx",
        "outputId": "682594b0-bed6-4cdc-e581-1cd121d1620b"
      },
      "execution_count": null,
      "outputs": [
        {
          "output_type": "stream",
          "name": "stdout",
          "text": [
            "            11             10             9           8         7\n",
            "-1.243e-08 x  + 4.722e-06 x  - 0.0008028 x + 0.08056 x - 5.297 x\n",
            "          6        5             4             3             2\n",
            " + 239.5 x - 7588 x + 1.684e+05 x - 2.565e+06 x + 2.551e+07 x - 1.491e+08 x + 3.879e+08\n"
          ]
        },
        {
          "output_type": "display_data",
          "data": {
            "text/plain": [
              "<Figure size 432x288 with 1 Axes>"
            ],
            "image/png": "[encoded data removed]"
          },
          "metadata": {
            "needs_background": "light"
          }
        }
      ]
    },
    {
      "cell_type": "code",
      "source": [
        "pr=PolynomialFeatures(degree=2)\n",
        "pr"
      ],
      "metadata": {
        "colab": {
          "base_uri": "https://localhost:8080/"
        },
        "id": "aAhew2QDWfUX",
        "outputId": "f7130734-8e6e-4dc2-ce40-8a33a8512b35"
      },
      "execution_count": null,
      "outputs": [
        {
          "output_type": "execute_result",
          "data": {
            "text/plain": [
              "PolynomialFeatures()"
            ]
          },
          "metadata": {},
          "execution_count": 40
        }
      ]
    },
    {
      "cell_type": "code",
      "source": [
        "Z_pr=pr.fit_transform(Z)"
      ],
      "metadata": {
        "id": "5bz45MtFWuWz"
      },
      "execution_count": null,
      "outputs": []
    },
    {
      "cell_type": "code",
      "source": [
        "Z.shape"
      ],
      "metadata": {
        "colab": {
          "base_uri": "https://localhost:8080/"
        },
        "id": "WxQFfR1jWvtZ",
        "outputId": "a8c5c35d-7191-4ef9-f4f9-779f83aee291"
      },
      "execution_count": null,
      "outputs": [
        {
          "output_type": "execute_result",
          "data": {
            "text/plain": [
              "(201, 4)"
            ]
          },
          "metadata": {},
          "execution_count": 42
        }
      ]
    },
    {
      "cell_type": "code",
      "source": [
        "Z_pr.shape"
      ],
      "metadata": {
        "colab": {
          "base_uri": "https://localhost:8080/"
        },
        "id": "LMLbRQraWy5X",
        "outputId": "0f11daf0-d276-4d70-859e-3a402111a055"
      },
      "execution_count": null,
      "outputs": [
        {
          "output_type": "execute_result",
          "data": {
            "text/plain": [
              "(201, 15)"
            ]
          },
          "metadata": {},
          "execution_count": 43
        }
      ]
    },
    {
      "cell_type": "code",
      "source": [
        "Input=[('scale',StandardScaler()), ('polynomial', PolynomialFeatures(include_bias=False)), ('model',LinearRegression())] #creando la lista de argumentos"
      ],
      "metadata": {
        "id": "0koNum0qXfup"
      },
      "execution_count": null,
      "outputs": []
    },
    {
      "cell_type": "code",
      "source": [
        "pipe=Pipeline(Input) #introduciendo la lista como argumento\n",
        "pipe"
      ],
      "metadata": {
        "colab": {
          "base_uri": "https://localhost:8080/"
        },
        "id": "ZW4RWH0RXhjg",
        "outputId": "b7a42abd-c12e-45c3-9ba9-35ce3f402cff"
      },
      "execution_count": null,
      "outputs": [
        {
          "output_type": "execute_result",
          "data": {
            "text/plain": [
              "Pipeline(steps=[('scale', StandardScaler()),\n",
              "                ('polynomial', PolynomialFeatures(include_bias=False)),\n",
              "                ('model', LinearRegression())])"
            ]
          },
          "metadata": {},
          "execution_count": 46
        }
      ]
    },
    {
      "cell_type": "code",
      "source": [
        "Z = Z.astype(float) #convertimos la variable a flotante\n",
        "pipe.fit(Z,y) #normalizamos, transformamos y corremos el modelo"
      ],
      "metadata": {
        "colab": {
          "base_uri": "https://localhost:8080/"
        },
        "id": "Fi452FR-XiuD",
        "outputId": "8800eb62-6148-48eb-f005-5f6cf8f65a57"
      },
      "execution_count": null,
      "outputs": [
        {
          "output_type": "execute_result",
          "data": {
            "text/plain": [
              "Pipeline(steps=[('scale', StandardScaler()),\n",
              "                ('polynomial', PolynomialFeatures(include_bias=False)),\n",
              "                ('model', LinearRegression())])"
            ]
          },
          "metadata": {},
          "execution_count": 47
        }
      ]
    },
    {
      "cell_type": "code",
      "source": [
        "ypipe=pipe.predict(Z) #normalizamos, transformamos y realizamos prediccion\n",
        "ypipe[0:4]"
      ],
      "metadata": {
        "colab": {
          "base_uri": "https://localhost:8080/"
        },
        "id": "ebV0MaftXouH",
        "outputId": "ba41e60b-b70a-4c66-cc36-a68e168d3269"
      },
      "execution_count": null,
      "outputs": [
        {
          "output_type": "execute_result",
          "data": {
            "text/plain": [
              "array([13102.74784201, 13102.74784201, 18225.54572197, 10390.29636555])"
            ]
          },
          "metadata": {},
          "execution_count": 48
        }
      ]
    },
    {
      "cell_type": "code",
      "source": [
        "Input=[('scale',StandardScaler()),('model',LinearRegression())] #creamos nuevo listado para alimentar pipe\n",
        "\n",
        "pipe=Pipeline(Input)\n",
        "\n",
        "pipe.fit(Z,y)\n",
        "\n",
        "ypipe=pipe.predict(Z)\n",
        "ypipe[0:10]"
      ],
      "metadata": {
        "colab": {
          "base_uri": "https://localhost:8080/"
        },
        "id": "_O0ETMTFX0kL",
        "outputId": "529c0b34-d02b-4bdf-8d1e-657ac5e0c68a"
      },
      "execution_count": null,
      "outputs": [
        {
          "output_type": "execute_result",
          "data": {
            "text/plain": [
              "array([13699.11161184, 13699.11161184, 19051.65470233, 10620.36193015,\n",
              "       15521.31420211, 13869.66673213, 15456.16196732, 15974.00907672,\n",
              "       17612.35917161, 10722.32509097])"
            ]
          },
          "metadata": {},
          "execution_count": 49
        }
      ]
    },
    {
      "cell_type": "code",
      "source": [
        "lm.fit(X, Y)\n",
        "print('The R-square is: ', lm.score(X, Y)) #consultado rsquare"
      ],
      "metadata": {
        "colab": {
          "base_uri": "https://localhost:8080/"
        },
        "id": "Gk2cJ-r3X8mD",
        "outputId": "1314d2df-0a19-43c6-ac30-85ebac0aec4c"
      },
      "execution_count": null,
      "outputs": [
        {
          "output_type": "stream",
          "name": "stdout",
          "text": [
            "The R-square is:  0.4965911884339176\n"
          ]
        }
      ]
    },
    {
      "cell_type": "markdown",
      "source": [
        "Estos nos dice que el 49% de variación del precio puede ser explicado por el modelo"
      ],
      "metadata": {
        "id": "WVF3cnzXaX_I"
      }
    },
    {
      "cell_type": "code",
      "source": [
        "Yhat=lm.predict(X)\n",
        "print('La salida de las primera cuatro predicciones es: ', Yhat[0:4])"
      ],
      "metadata": {
        "colab": {
          "base_uri": "https://localhost:8080/"
        },
        "id": "VjPwBX68aijv",
        "outputId": "924b06fd-4836-4a07-b57f-314f018c5c4a"
      },
      "execution_count": null,
      "outputs": [
        {
          "output_type": "stream",
          "name": "stdout",
          "text": [
            "La salida de las primera cuatro predicciones es:  [16236.50464347 16236.50464347 17058.23802179 13771.3045085 ]\n"
          ]
        }
      ]
    },
    {
      "cell_type": "code",
      "source": [
        "mse = mean_squared_error(df['price'], Yhat)\n",
        "print('El error cuadratico medio es: ', mse)"
      ],
      "metadata": {
        "colab": {
          "base_uri": "https://localhost:8080/"
        },
        "id": "eAyyPCT2anwJ",
        "outputId": "8628b344-0511-442e-f9fa-bb161d5557ea"
      },
      "execution_count": null,
      "outputs": [
        {
          "output_type": "stream",
          "name": "stdout",
          "text": [
            "El error cuadratico medio es:  31635042.944639888\n"
          ]
        }
      ]
    },
    {
      "cell_type": "code",
      "source": [
        "\n",
        "lm.fit(Z, df['price'])\n",
        "print('The R-square is: ', lm.score(Z, df['price']))"
      ],
      "metadata": {
        "colab": {
          "base_uri": "https://localhost:8080/"
        },
        "id": "5_F0gvRya4fC",
        "outputId": "66bffa1e-20f5-49a3-a3ef-a7911dfd0bb9"
      },
      "execution_count": null,
      "outputs": [
        {
          "output_type": "stream",
          "name": "stdout",
          "text": [
            "The R-square is:  0.8093562806577457\n"
          ]
        }
      ]
    },
    {
      "cell_type": "markdown",
      "source": [
        "cerca del 80% de variacion puede ser explicado por la regresion lineal multiple"
      ],
      "metadata": {
        "id": "Hc6FX_PPbD3Z"
      }
    },
    {
      "cell_type": "code",
      "source": [
        "Y_predict_multifit = lm.predict(Z)"
      ],
      "metadata": {
        "id": "-PpZM0-MbGqI"
      },
      "execution_count": null,
      "outputs": []
    },
    {
      "cell_type": "code",
      "source": [
        "print('El error cuadratico medio es: ', \\\n",
        "      mean_squared_error(df['price'], Y_predict_multifit))"
      ],
      "metadata": {
        "colab": {
          "base_uri": "https://localhost:8080/"
        },
        "id": "KH_jV1yLbKSo",
        "outputId": "d06f3a18-9fa1-4cec-f4fc-5927e79106c8"
      },
      "execution_count": null,
      "outputs": [
        {
          "output_type": "stream",
          "name": "stdout",
          "text": [
            "El error cuadratico medio es:  11980366.87072649\n"
          ]
        }
      ]
    },
    {
      "cell_type": "code",
      "source": [
        "r_squared = r2_score(y, p(x))\n",
        "print('El valor de R-square es: ', r_squared)"
      ],
      "metadata": {
        "colab": {
          "base_uri": "https://localhost:8080/"
        },
        "id": "6s6Egnz-bZGu",
        "outputId": "edcd0fe6-40fa-4f78-df27-28ba28286e3d"
      },
      "execution_count": null,
      "outputs": [
        {
          "output_type": "stream",
          "name": "stdout",
          "text": [
            "El valor de R-square es:  0.674194666390652\n"
          ]
        }
      ]
    },
    {
      "cell_type": "code",
      "source": [
        "mean_squared_error(df['price'], p(x))"
      ],
      "metadata": {
        "colab": {
          "base_uri": "https://localhost:8080/"
        },
        "id": "WH8y3MDNbpxc",
        "outputId": "63ec5730-d5cd-4222-eec0-baad963a93cc"
      },
      "execution_count": null,
      "outputs": [
        {
          "output_type": "execute_result",
          "data": {
            "text/plain": [
              "20474146.426361218"
            ]
          },
          "metadata": {},
          "execution_count": 63
        }
      ]
    },
    {
      "cell_type": "code",
      "source": [
        "new_input=np.arange(1, 100, 1).reshape(-1, 1)"
      ],
      "metadata": {
        "id": "lfmu5aPubs-2"
      },
      "execution_count": null,
      "outputs": []
    },
    {
      "cell_type": "code",
      "source": [
        "lm.fit(X, Y)\n",
        "lm"
      ],
      "metadata": {
        "colab": {
          "base_uri": "https://localhost:8080/"
        },
        "id": "76i7MhI2bt2l",
        "outputId": "d60debc4-40e4-4d7d-b720-fb57bd367149"
      },
      "execution_count": null,
      "outputs": [
        {
          "output_type": "execute_result",
          "data": {
            "text/plain": [
              "LinearRegression()"
            ]
          },
          "metadata": {},
          "execution_count": 65
        }
      ]
    },
    {
      "cell_type": "code",
      "source": [
        "yhat=lm.predict(new_input)\n",
        "yhat[0:5]"
      ],
      "metadata": {
        "colab": {
          "base_uri": "https://localhost:8080/"
        },
        "id": "r7Ej9GfnbxHZ",
        "outputId": "864810fe-f30c-4762-a389-62b0b71e0716"
      },
      "execution_count": null,
      "outputs": [
        {
          "output_type": "stream",
          "name": "stderr",
          "text": [
            "/usr/local/lib/python3.7/dist-packages/sklearn/base.py:451: UserWarning: X does not have valid feature names, but LinearRegression was fitted with feature names\n",
            "  \"X does not have valid feature names, but\"\n"
          ]
        },
        {
          "output_type": "execute_result",
          "data": {
            "text/plain": [
              "array([37601.57247984, 36779.83910151, 35958.10572319, 35136.37234487,\n",
              "       34314.63896655])"
            ]
          },
          "metadata": {},
          "execution_count": 66
        }
      ]
    },
    {
      "cell_type": "code",
      "source": [
        "plt.plot(new_input, yhat)\n",
        "plt.show()"
      ],
      "metadata": {
        "id": "kQbdtmrpb9EL",
        "outputId": "e83b87cc-7218-40cc-8bf4-37888628614e",
        "colab": {
          "base_uri": "https://localhost:8080/",
          "height": 265
        }
      },
      "execution_count": null,
      "outputs": [
        {
          "output_type": "display_data",
          "data": {
            "text/plain": [
              "<Figure size 432x288 with 1 Axes>"
            ],
            "image/png": "[encoded data removed]"
          },
          "metadata": {
            "needs_background": "light"
          }
        }
      ]
    },
    {
      "cell_type": "markdown",
      "source": [
        "Regresion polinomial > sirve para describir relaciones curvilineas.\n",
        "\n",
        "-cuadratico\n",
        "-cubico\n",
        "-ordenes mayores\n",
        "\n",
        "\n"
      ],
      "metadata": {
        "id": "KkkEQchcz2wE"
      }
    },
    {
      "cell_type": "markdown",
      "source": [
        "Metricas de evaluacion\n",
        "\n",
        "Es una manera de medir que tan bien se adecua un modelo al dataset\n",
        "\n",
        "Error cuadratico medio (MSE)\n"
      ],
      "metadata": {
        "id": "erSqGbDh2m3A"
      }
    },
    {
      "cell_type": "markdown",
      "source": [
        "![image.png](data:image/png;base64,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)[texto del vínculo](https://)"
      ],
      "metadata": {
        "id": "UOTmWTt4-s9i"
      }
    }
  ]
}